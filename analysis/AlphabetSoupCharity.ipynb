{
 "cells": [
  {
   "cell_type": "markdown",
   "metadata": {
    "pycharm": {
     "name": "#%% md\n"
    }
   },
   "source": [
    "### Deliverable 1: Preprocessing the Data for a Neural Network"
   ]
  },
  {
   "cell_type": "code",
   "execution_count": 103,
   "metadata": {
    "pycharm": {
     "name": "#%%\n"
    }
   },
   "outputs": [
    {
     "data": {
      "text/plain": "        EIN                                      NAME APPLICATION_TYPE  \\\n0  10520599              BLUE KNIGHTS MOTORCYCLE CLUB              T10   \n1  10531628    AMERICAN CHESAPEAKE CLUB CHARITABLE TR               T3   \n2  10547893        ST CLOUD PROFESSIONAL FIREFIGHTERS               T5   \n3  10553066            SOUTHSIDE ATHLETIC ASSOCIATION               T3   \n4  10556103  GENETIC RESEARCH INSTITUTE OF THE DESERT               T3   \n\n        AFFILIATION CLASSIFICATION      USE_CASE  ORGANIZATION  STATUS  \\\n0       Independent          C1000    ProductDev   Association       1   \n1       Independent          C2000  Preservation  Co-operative       1   \n2  CompanySponsored          C3000    ProductDev   Association       1   \n3  CompanySponsored          C2000  Preservation         Trust       1   \n4       Independent          C1000     Heathcare         Trust       1   \n\n      INCOME_AMT SPECIAL_CONSIDERATIONS  ASK_AMT  IS_SUCCESSFUL  \n0              0                      N     5000              1  \n1         1-9999                      N   108590              1  \n2              0                      N     5000              0  \n3    10000-24999                      N     6692              1  \n4  100000-499999                      N   142590              1  ",
      "text/html": "<div>\n<style scoped>\n    .dataframe tbody tr th:only-of-type {\n        vertical-align: middle;\n    }\n\n    .dataframe tbody tr th {\n        vertical-align: top;\n    }\n\n    .dataframe thead th {\n        text-align: right;\n    }\n</style>\n<table border=\"1\" class=\"dataframe\">\n  <thead>\n    <tr style=\"text-align: right;\">\n      <th></th>\n      <th>EIN</th>\n      <th>NAME</th>\n      <th>APPLICATION_TYPE</th>\n      <th>AFFILIATION</th>\n      <th>CLASSIFICATION</th>\n      <th>USE_CASE</th>\n      <th>ORGANIZATION</th>\n      <th>STATUS</th>\n      <th>INCOME_AMT</th>\n      <th>SPECIAL_CONSIDERATIONS</th>\n      <th>ASK_AMT</th>\n      <th>IS_SUCCESSFUL</th>\n    </tr>\n  </thead>\n  <tbody>\n    <tr>\n      <th>0</th>\n      <td>10520599</td>\n      <td>BLUE KNIGHTS MOTORCYCLE CLUB</td>\n      <td>T10</td>\n      <td>Independent</td>\n      <td>C1000</td>\n      <td>ProductDev</td>\n      <td>Association</td>\n      <td>1</td>\n      <td>0</td>\n      <td>N</td>\n      <td>5000</td>\n      <td>1</td>\n    </tr>\n    <tr>\n      <th>1</th>\n      <td>10531628</td>\n      <td>AMERICAN CHESAPEAKE CLUB CHARITABLE TR</td>\n      <td>T3</td>\n      <td>Independent</td>\n      <td>C2000</td>\n      <td>Preservation</td>\n      <td>Co-operative</td>\n      <td>1</td>\n      <td>1-9999</td>\n      <td>N</td>\n      <td>108590</td>\n      <td>1</td>\n    </tr>\n    <tr>\n      <th>2</th>\n      <td>10547893</td>\n      <td>ST CLOUD PROFESSIONAL FIREFIGHTERS</td>\n      <td>T5</td>\n      <td>CompanySponsored</td>\n      <td>C3000</td>\n      <td>ProductDev</td>\n      <td>Association</td>\n      <td>1</td>\n      <td>0</td>\n      <td>N</td>\n      <td>5000</td>\n      <td>0</td>\n    </tr>\n    <tr>\n      <th>3</th>\n      <td>10553066</td>\n      <td>SOUTHSIDE ATHLETIC ASSOCIATION</td>\n      <td>T3</td>\n      <td>CompanySponsored</td>\n      <td>C2000</td>\n      <td>Preservation</td>\n      <td>Trust</td>\n      <td>1</td>\n      <td>10000-24999</td>\n      <td>N</td>\n      <td>6692</td>\n      <td>1</td>\n    </tr>\n    <tr>\n      <th>4</th>\n      <td>10556103</td>\n      <td>GENETIC RESEARCH INSTITUTE OF THE DESERT</td>\n      <td>T3</td>\n      <td>Independent</td>\n      <td>C1000</td>\n      <td>Heathcare</td>\n      <td>Trust</td>\n      <td>1</td>\n      <td>100000-499999</td>\n      <td>N</td>\n      <td>142590</td>\n      <td>1</td>\n    </tr>\n  </tbody>\n</table>\n</div>"
     },
     "execution_count": 103,
     "metadata": {},
     "output_type": "execute_result"
    }
   ],
   "source": [
    "#  Import and read the charity_data.csv.\n",
    "import pandas as pd\n",
    "import tensorflow as tf\n",
    "# Import our dependencies\n",
    "from sklearn.model_selection import train_test_split\n",
    "from sklearn.preprocessing import StandardScaler, OneHotEncoder\n",
    "\n",
    "application_df = pd.read_csv(\"../Resources/charity_data.csv\")\n",
    "application_df.head()"
   ]
  },
  {
   "cell_type": "code",
   "execution_count": 104,
   "metadata": {
    "pycharm": {
     "name": "#%%\n"
    }
   },
   "outputs": [],
   "source": [
    "# Drop the non-beneficial ID columns, 'EIN' and 'NAME'.\n",
    "application_df = application_df.drop(['EIN', 'NAME'], axis=1)"
   ]
  },
  {
   "cell_type": "code",
   "execution_count": 105,
   "metadata": {
    "pycharm": {
     "name": "#%%\n"
    }
   },
   "outputs": [
    {
     "data": {
      "text/plain": "APPLICATION_TYPE            17\nAFFILIATION                  6\nCLASSIFICATION              71\nUSE_CASE                     5\nORGANIZATION                 4\nSTATUS                       2\nINCOME_AMT                   9\nSPECIAL_CONSIDERATIONS       2\nASK_AMT                   8747\nIS_SUCCESSFUL                2\ndtype: int64"
     },
     "execution_count": 105,
     "metadata": {},
     "output_type": "execute_result"
    }
   ],
   "source": [
    "# Determine the number of unique values in each column.\n",
    "application_df.nunique()"
   ]
  },
  {
   "cell_type": "code",
   "execution_count": 106,
   "metadata": {
    "pycharm": {
     "name": "#%%\n"
    }
   },
   "outputs": [
    {
     "data": {
      "text/plain": "T3     27037\nT4      1542\nT6      1216\nT5      1173\nT19     1065\nT8       737\nT7       725\nT10      528\nT9       156\nT13       66\nT12       27\nT2        16\nT25        3\nT14        3\nT29        2\nT15        2\nT17        1\nName: APPLICATION_TYPE, dtype: int64"
     },
     "execution_count": 106,
     "metadata": {},
     "output_type": "execute_result"
    }
   ],
   "source": [
    "# Look at APPLICATION_TYPE value counts for binning\n",
    "bin_analysis = application_df[\"APPLICATION_TYPE\"].value_counts()\n",
    "bin_analysis"
   ]
  },
  {
   "cell_type": "code",
   "execution_count": 107,
   "metadata": {
    "pycharm": {
     "name": "#%%\n"
    }
   },
   "outputs": [
    {
     "data": {
      "text/plain": "<AxesSubplot:ylabel='Density'>"
     },
     "execution_count": 107,
     "metadata": {},
     "output_type": "execute_result"
    },
    {
     "data": {
      "text/plain": "<Figure size 432x288 with 1 Axes>",
      "image/png": "[encoded data removed]"
     },
     "metadata": {
      "needs_background": "light"
     },
     "output_type": "display_data"
    }
   ],
   "source": [
    "# Visualize the value counts of APPLICATION_TYPE\n",
    "bin_analysis.plot.density()"
   ]
  },
  {
   "cell_type": "code",
   "execution_count": 108,
   "metadata": {
    "pycharm": {
     "name": "#%%\n"
    }
   },
   "outputs": [
    {
     "data": {
      "text/plain": "T3       27037\nOther     2266\nT4        1542\nT6        1216\nT5        1173\nT19       1065\nName: APPLICATION_TYPE, dtype: int64"
     },
     "execution_count": 108,
     "metadata": {},
     "output_type": "execute_result"
    }
   ],
   "source": [
    "# Determine which values to replace if counts are less than ...?\n",
    "replace_application = list(bin_analysis[bin_analysis < 750].index)\n",
    "\n",
    "# Replace in dataframe\n",
    "for app in replace_application:\n",
    "    application_df.APPLICATION_TYPE = application_df.APPLICATION_TYPE.replace(app, \"Other\")\n",
    "\n",
    "# Check to make sure binning was successful\n",
    "application_df.APPLICATION_TYPE.value_counts()"
   ]
  },
  {
   "cell_type": "code",
   "execution_count": 109,
   "metadata": {
    "pycharm": {
     "name": "#%%\n"
    }
   },
   "outputs": [
    {
     "data": {
      "text/plain": "C1000    17326\nC2000     6074\nC1200     4837\nC3000     1918\nC2100     1883\n         ...  \nC4120        1\nC8210        1\nC2561        1\nC4500        1\nC2150        1\nName: CLASSIFICATION, Length: 71, dtype: int64"
     },
     "execution_count": 109,
     "metadata": {},
     "output_type": "execute_result"
    }
   ],
   "source": [
    "# Look at CLASSIFICATION value counts for binning\n",
    "class_counts = application_df.CLASSIFICATION.value_counts()\n",
    "class_counts"
   ]
  },
  {
   "cell_type": "code",
   "execution_count": 110,
   "metadata": {
    "pycharm": {
     "name": "#%%\n"
    }
   },
   "outputs": [
    {
     "data": {
      "text/plain": "<AxesSubplot:ylabel='Density'>"
     },
     "execution_count": 110,
     "metadata": {},
     "output_type": "execute_result"
    },
    {
     "data": {
      "text/plain": "<Figure size 432x288 with 1 Axes>",
      "image/png": "[encoded data removed]"
     },
     "metadata": {
      "needs_background": "light"
     },
     "output_type": "display_data"
    }
   ],
   "source": [
    "# Visualize the value counts of CLASSIFICATION\n",
    "class_counts.plot.density()"
   ]
  },
  {
   "cell_type": "code",
   "execution_count": 111,
   "metadata": {
    "pycharm": {
     "name": "#%%\n"
    }
   },
   "outputs": [
    {
     "data": {
      "text/plain": "C1000    17326\nC2000     6074\nOther     6062\nC1200     4837\nName: CLASSIFICATION, dtype: int64"
     },
     "execution_count": 111,
     "metadata": {},
     "output_type": "execute_result"
    }
   ],
   "source": [
    "# Determine which values to replace if counts are less than ..?\n",
    "replace_class = list(class_counts[class_counts < 2500].index)\n",
    "\n",
    "# Replace in dataframe\n",
    "for cls in replace_class:\n",
    "    application_df.CLASSIFICATION = application_df.CLASSIFICATION.replace(cls, \"Other\")\n",
    "\n",
    "# Check to make sure binning was successful\n",
    "application_df.CLASSIFICATION.value_counts()"
   ]
  },
  {
   "cell_type": "code",
   "execution_count": 112,
   "metadata": {
    "pycharm": {
     "name": "#%%\n"
    }
   },
   "outputs": [
    {
     "data": {
      "text/plain": "['APPLICATION_TYPE',\n 'AFFILIATION',\n 'CLASSIFICATION',\n 'USE_CASE',\n 'ORGANIZATION',\n 'INCOME_AMT',\n 'SPECIAL_CONSIDERATIONS']"
     },
     "execution_count": 112,
     "metadata": {},
     "output_type": "execute_result"
    }
   ],
   "source": [
    "# Generate our categorical variable lists\n",
    "categories = application_df.dtypes[application_df.dtypes == \"object\"].index.tolist()\n",
    "categories"
   ]
  },
  {
   "cell_type": "code",
   "execution_count": 113,
   "metadata": {
    "pycharm": {
     "name": "#%%\n"
    }
   },
   "outputs": [
    {
     "data": {
      "text/plain": "   APPLICATION_TYPE_Other  APPLICATION_TYPE_T19  APPLICATION_TYPE_T3  \\\n0                     1.0                   0.0                  0.0   \n1                     0.0                   0.0                  1.0   \n2                     0.0                   0.0                  0.0   \n3                     0.0                   0.0                  1.0   \n4                     0.0                   0.0                  1.0   \n\n   APPLICATION_TYPE_T4  APPLICATION_TYPE_T5  APPLICATION_TYPE_T6  \\\n0                  0.0                  0.0                  0.0   \n1                  0.0                  0.0                  0.0   \n2                  0.0                  1.0                  0.0   \n3                  0.0                  0.0                  0.0   \n4                  0.0                  0.0                  0.0   \n\n   AFFILIATION_CompanySponsored  AFFILIATION_Family/Parent  \\\n0                           0.0                        0.0   \n1                           0.0                        0.0   \n2                           1.0                        0.0   \n3                           1.0                        0.0   \n4                           0.0                        0.0   \n\n   AFFILIATION_Independent  AFFILIATION_National  ...  INCOME_AMT_1-9999  \\\n0                      1.0                   0.0  ...                0.0   \n1                      1.0                   0.0  ...                1.0   \n2                      0.0                   0.0  ...                0.0   \n3                      0.0                   0.0  ...                0.0   \n4                      1.0                   0.0  ...                0.0   \n\n   INCOME_AMT_10000-24999  INCOME_AMT_100000-499999  INCOME_AMT_10M-50M  \\\n0                     0.0                       0.0                 0.0   \n1                     0.0                       0.0                 0.0   \n2                     0.0                       0.0                 0.0   \n3                     1.0                       0.0                 0.0   \n4                     0.0                       1.0                 0.0   \n\n   INCOME_AMT_1M-5M  INCOME_AMT_25000-99999  INCOME_AMT_50M+  \\\n0               0.0                     0.0              0.0   \n1               0.0                     0.0              0.0   \n2               0.0                     0.0              0.0   \n3               0.0                     0.0              0.0   \n4               0.0                     0.0              0.0   \n\n   INCOME_AMT_5M-10M  SPECIAL_CONSIDERATIONS_N  SPECIAL_CONSIDERATIONS_Y  \n0                0.0                       1.0                       0.0  \n1                0.0                       1.0                       0.0  \n2                0.0                       1.0                       0.0  \n3                0.0                       1.0                       0.0  \n4                0.0                       1.0                       0.0  \n\n[5 rows x 36 columns]",
      "text/html": "<div>\n<style scoped>\n    .dataframe tbody tr th:only-of-type {\n        vertical-align: middle;\n    }\n\n    .dataframe tbody tr th {\n        vertical-align: top;\n    }\n\n    .dataframe thead th {\n        text-align: right;\n    }\n</style>\n<table border=\"1\" class=\"dataframe\">\n  <thead>\n    <tr style=\"text-align: right;\">\n      <th></th>\n      <th>APPLICATION_TYPE_Other</th>\n      <th>APPLICATION_TYPE_T19</th>\n      <th>APPLICATION_TYPE_T3</th>\n      <th>APPLICATION_TYPE_T4</th>\n      <th>APPLICATION_TYPE_T5</th>\n      <th>APPLICATION_TYPE_T6</th>\n      <th>AFFILIATION_CompanySponsored</th>\n      <th>AFFILIATION_Family/Parent</th>\n      <th>AFFILIATION_Independent</th>\n      <th>AFFILIATION_National</th>\n      <th>...</th>\n      <th>INCOME_AMT_1-9999</th>\n      <th>INCOME_AMT_10000-24999</th>\n      <th>INCOME_AMT_100000-499999</th>\n      <th>INCOME_AMT_10M-50M</th>\n      <th>INCOME_AMT_1M-5M</th>\n      <th>INCOME_AMT_25000-99999</th>\n      <th>INCOME_AMT_50M+</th>\n      <th>INCOME_AMT_5M-10M</th>\n      <th>SPECIAL_CONSIDERATIONS_N</th>\n      <th>SPECIAL_CONSIDERATIONS_Y</th>\n    </tr>\n  </thead>\n  <tbody>\n    <tr>\n      <th>0</th>\n      <td>1.0</td>\n      <td>0.0</td>\n      <td>0.0</td>\n      <td>0.0</td>\n      <td>0.0</td>\n      <td>0.0</td>\n      <td>0.0</td>\n      <td>0.0</td>\n      <td>1.0</td>\n      <td>0.0</td>\n      <td>...</td>\n      <td>0.0</td>\n      <td>0.0</td>\n      <td>0.0</td>\n      <td>0.0</td>\n      <td>0.0</td>\n      <td>0.0</td>\n      <td>0.0</td>\n      <td>0.0</td>\n      <td>1.0</td>\n      <td>0.0</td>\n    </tr>\n    <tr>\n      <th>1</th>\n      <td>0.0</td>\n      <td>0.0</td>\n      <td>1.0</td>\n      <td>0.0</td>\n      <td>0.0</td>\n      <td>0.0</td>\n      <td>0.0</td>\n      <td>0.0</td>\n      <td>1.0</td>\n      <td>0.0</td>\n      <td>...</td>\n      <td>1.0</td>\n      <td>0.0</td>\n      <td>0.0</td>\n      <td>0.0</td>\n      <td>0.0</td>\n      <td>0.0</td>\n      <td>0.0</td>\n      <td>0.0</td>\n      <td>1.0</td>\n      <td>0.0</td>\n    </tr>\n    <tr>\n      <th>2</th>\n      <td>0.0</td>\n      <td>0.0</td>\n      <td>0.0</td>\n      <td>0.0</td>\n      <td>1.0</td>\n      <td>0.0</td>\n      <td>1.0</td>\n      <td>0.0</td>\n      <td>0.0</td>\n      <td>0.0</td>\n      <td>...</td>\n      <td>0.0</td>\n      <td>0.0</td>\n      <td>0.0</td>\n      <td>0.0</td>\n      <td>0.0</td>\n      <td>0.0</td>\n      <td>0.0</td>\n      <td>0.0</td>\n      <td>1.0</td>\n      <td>0.0</td>\n    </tr>\n    <tr>\n      <th>3</th>\n      <td>0.0</td>\n      <td>0.0</td>\n      <td>1.0</td>\n      <td>0.0</td>\n      <td>0.0</td>\n      <td>0.0</td>\n      <td>1.0</td>\n      <td>0.0</td>\n      <td>0.0</td>\n      <td>0.0</td>\n      <td>...</td>\n      <td>0.0</td>\n      <td>1.0</td>\n      <td>0.0</td>\n      <td>0.0</td>\n      <td>0.0</td>\n      <td>0.0</td>\n      <td>0.0</td>\n      <td>0.0</td>\n      <td>1.0</td>\n      <td>0.0</td>\n    </tr>\n    <tr>\n      <th>4</th>\n      <td>0.0</td>\n      <td>0.0</td>\n      <td>1.0</td>\n      <td>0.0</td>\n      <td>0.0</td>\n      <td>0.0</td>\n      <td>0.0</td>\n      <td>0.0</td>\n      <td>1.0</td>\n      <td>0.0</td>\n      <td>...</td>\n      <td>0.0</td>\n      <td>0.0</td>\n      <td>1.0</td>\n      <td>0.0</td>\n      <td>0.0</td>\n      <td>0.0</td>\n      <td>0.0</td>\n      <td>0.0</td>\n      <td>1.0</td>\n      <td>0.0</td>\n    </tr>\n  </tbody>\n</table>\n<p>5 rows × 36 columns</p>\n</div>"
     },
     "execution_count": 113,
     "metadata": {},
     "output_type": "execute_result"
    }
   ],
   "source": [
    "# Create a OneHotEncoder instance\n",
    "enc = OneHotEncoder(sparse=False)\n",
    "\n",
    "# Fit and transform the OneHotEncoder using the categorical variable list\n",
    "encode_df = pd.DataFrame(enc.fit_transform(application_df[categories]))\n",
    "\n",
    "# Add the encoded variable names to the dataframe\n",
    "encode_df.columns = enc.get_feature_names_out(categories)\n",
    "encode_df.head()"
   ]
  },
  {
   "cell_type": "code",
   "execution_count": 114,
   "metadata": {
    "pycharm": {
     "name": "#%%\n"
    }
   },
   "outputs": [
    {
     "data": {
      "text/plain": "   STATUS  ASK_AMT  IS_SUCCESSFUL  APPLICATION_TYPE_Other  \\\n0       1     5000              1                     1.0   \n1       1   108590              1                     0.0   \n2       1     5000              0                     0.0   \n3       1     6692              1                     0.0   \n4       1   142590              1                     0.0   \n\n   APPLICATION_TYPE_T19  APPLICATION_TYPE_T3  APPLICATION_TYPE_T4  \\\n0                   0.0                  0.0                  0.0   \n1                   0.0                  1.0                  0.0   \n2                   0.0                  0.0                  0.0   \n3                   0.0                  1.0                  0.0   \n4                   0.0                  1.0                  0.0   \n\n   APPLICATION_TYPE_T5  APPLICATION_TYPE_T6  AFFILIATION_CompanySponsored  \\\n0                  0.0                  0.0                           0.0   \n1                  0.0                  0.0                           0.0   \n2                  1.0                  0.0                           1.0   \n3                  0.0                  0.0                           1.0   \n4                  0.0                  0.0                           0.0   \n\n   ...  INCOME_AMT_1-9999  INCOME_AMT_10000-24999  INCOME_AMT_100000-499999  \\\n0  ...                0.0                     0.0                       0.0   \n1  ...                1.0                     0.0                       0.0   \n2  ...                0.0                     0.0                       0.0   \n3  ...                0.0                     1.0                       0.0   \n4  ...                0.0                     0.0                       1.0   \n\n   INCOME_AMT_10M-50M  INCOME_AMT_1M-5M  INCOME_AMT_25000-99999  \\\n0                 0.0               0.0                     0.0   \n1                 0.0               0.0                     0.0   \n2                 0.0               0.0                     0.0   \n3                 0.0               0.0                     0.0   \n4                 0.0               0.0                     0.0   \n\n   INCOME_AMT_50M+  INCOME_AMT_5M-10M  SPECIAL_CONSIDERATIONS_N  \\\n0              0.0                0.0                       1.0   \n1              0.0                0.0                       1.0   \n2              0.0                0.0                       1.0   \n3              0.0                0.0                       1.0   \n4              0.0                0.0                       1.0   \n\n   SPECIAL_CONSIDERATIONS_Y  \n0                       0.0  \n1                       0.0  \n2                       0.0  \n3                       0.0  \n4                       0.0  \n\n[5 rows x 39 columns]",
      "text/html": "<div>\n<style scoped>\n    .dataframe tbody tr th:only-of-type {\n        vertical-align: middle;\n    }\n\n    .dataframe tbody tr th {\n        vertical-align: top;\n    }\n\n    .dataframe thead th {\n        text-align: right;\n    }\n</style>\n<table border=\"1\" class=\"dataframe\">\n  <thead>\n    <tr style=\"text-align: right;\">\n      <th></th>\n      <th>STATUS</th>\n      <th>ASK_AMT</th>\n      <th>IS_SUCCESSFUL</th>\n      <th>APPLICATION_TYPE_Other</th>\n      <th>APPLICATION_TYPE_T19</th>\n      <th>APPLICATION_TYPE_T3</th>\n      <th>APPLICATION_TYPE_T4</th>\n      <th>APPLICATION_TYPE_T5</th>\n      <th>APPLICATION_TYPE_T6</th>\n      <th>AFFILIATION_CompanySponsored</th>\n      <th>...</th>\n      <th>INCOME_AMT_1-9999</th>\n      <th>INCOME_AMT_10000-24999</th>\n      <th>INCOME_AMT_100000-499999</th>\n      <th>INCOME_AMT_10M-50M</th>\n      <th>INCOME_AMT_1M-5M</th>\n      <th>INCOME_AMT_25000-99999</th>\n      <th>INCOME_AMT_50M+</th>\n      <th>INCOME_AMT_5M-10M</th>\n      <th>SPECIAL_CONSIDERATIONS_N</th>\n      <th>SPECIAL_CONSIDERATIONS_Y</th>\n    </tr>\n  </thead>\n  <tbody>\n    <tr>\n      <th>0</th>\n      <td>1</td>\n      <td>5000</td>\n      <td>1</td>\n      <td>1.0</td>\n      <td>0.0</td>\n      <td>0.0</td>\n      <td>0.0</td>\n      <td>0.0</td>\n      <td>0.0</td>\n      <td>0.0</td>\n      <td>...</td>\n      <td>0.0</td>\n      <td>0.0</td>\n      <td>0.0</td>\n      <td>0.0</td>\n      <td>0.0</td>\n      <td>0.0</td>\n      <td>0.0</td>\n      <td>0.0</td>\n      <td>1.0</td>\n      <td>0.0</td>\n    </tr>\n    <tr>\n      <th>1</th>\n      <td>1</td>\n      <td>108590</td>\n      <td>1</td>\n      <td>0.0</td>\n      <td>0.0</td>\n      <td>1.0</td>\n      <td>0.0</td>\n      <td>0.0</td>\n      <td>0.0</td>\n      <td>0.0</td>\n      <td>...</td>\n      <td>1.0</td>\n      <td>0.0</td>\n      <td>0.0</td>\n      <td>0.0</td>\n      <td>0.0</td>\n      <td>0.0</td>\n      <td>0.0</td>\n      <td>0.0</td>\n      <td>1.0</td>\n      <td>0.0</td>\n    </tr>\n    <tr>\n      <th>2</th>\n      <td>1</td>\n      <td>5000</td>\n      <td>0</td>\n      <td>0.0</td>\n      <td>0.0</td>\n      <td>0.0</td>\n      <td>0.0</td>\n      <td>1.0</td>\n      <td>0.0</td>\n      <td>1.0</td>\n      <td>...</td>\n      <td>0.0</td>\n      <td>0.0</td>\n      <td>0.0</td>\n      <td>0.0</td>\n      <td>0.0</td>\n      <td>0.0</td>\n      <td>0.0</td>\n      <td>0.0</td>\n      <td>1.0</td>\n      <td>0.0</td>\n    </tr>\n    <tr>\n      <th>3</th>\n      <td>1</td>\n      <td>6692</td>\n      <td>1</td>\n      <td>0.0</td>\n      <td>0.0</td>\n      <td>1.0</td>\n      <td>0.0</td>\n      <td>0.0</td>\n      <td>0.0</td>\n      <td>1.0</td>\n      <td>...</td>\n      <td>0.0</td>\n      <td>1.0</td>\n      <td>0.0</td>\n      <td>0.0</td>\n      <td>0.0</td>\n      <td>0.0</td>\n      <td>0.0</td>\n      <td>0.0</td>\n      <td>1.0</td>\n      <td>0.0</td>\n    </tr>\n    <tr>\n      <th>4</th>\n      <td>1</td>\n      <td>142590</td>\n      <td>1</td>\n      <td>0.0</td>\n      <td>0.0</td>\n      <td>1.0</td>\n      <td>0.0</td>\n      <td>0.0</td>\n      <td>0.0</td>\n      <td>0.0</td>\n      <td>...</td>\n      <td>0.0</td>\n      <td>0.0</td>\n      <td>1.0</td>\n      <td>0.0</td>\n      <td>0.0</td>\n      <td>0.0</td>\n      <td>0.0</td>\n      <td>0.0</td>\n      <td>1.0</td>\n      <td>0.0</td>\n    </tr>\n  </tbody>\n</table>\n<p>5 rows × 39 columns</p>\n</div>"
     },
     "execution_count": 114,
     "metadata": {},
     "output_type": "execute_result"
    }
   ],
   "source": [
    "# Merge one-hot encoded features and drop the originals\n",
    "preprocessed_df = application_df.merge(encode_df, left_index=True, right_index=True).drop(columns=categories)\n",
    "preprocessed_df.head()"
   ]
  },
  {
   "cell_type": "code",
   "execution_count": 115,
   "metadata": {
    "pycharm": {
     "name": "#%%\n"
    }
   },
   "outputs": [
    {
     "name": "stderr",
     "output_type": "stream",
     "text": [
      "/Users/chris.weber/opt/anaconda3/envs/mlenv/lib/python3.7/site-packages/ipykernel_launcher.py:3: FutureWarning: In a future version of pandas all arguments of DataFrame.drop except for the argument 'labels' will be keyword-only\n",
      "  This is separate from the ipykernel package so we can avoid doing imports until\n"
     ]
    }
   ],
   "source": [
    "# Split our preprocessed data into our features and target arrays\n",
    "y = preprocessed_df[\"IS_SUCCESSFUL\"].values\n",
    "X = preprocessed_df.drop([\"IS_SUCCESSFUL\"], 1).values\n",
    "\n",
    "# Split the preprocessed data into a training and testing dataset\n",
    "X_train, X_test, y_train, y_test = train_test_split(X, y, random_state=78)"
   ]
  },
  {
   "cell_type": "code",
   "execution_count": 116,
   "metadata": {
    "pycharm": {
     "name": "#%%\n"
    }
   },
   "outputs": [],
   "source": [
    "# Create a StandardScaler instances\n",
    "scaler = StandardScaler()\n",
    "\n",
    "# Fit the StandardScaler\n",
    "X_scaler = scaler.fit(X_train)\n",
    "\n",
    "# Scale the data\n",
    "X_train_scaled = X_scaler.transform(X_train)\n",
    "X_test_scaled = X_scaler.transform(X_test)"
   ]
  },
  {
   "cell_type": "markdown",
   "metadata": {
    "pycharm": {
     "name": "#%% md\n"
    }
   },
   "source": [
    "### Deliverable 2: Compile, Train and Evaluate the Model"
   ]
  },
  {
   "cell_type": "code",
   "execution_count": 117,
   "metadata": {
    "pycharm": {
     "name": "#%%\n"
    }
   },
   "outputs": [
    {
     "name": "stdout",
     "output_type": "stream",
     "text": [
      "Model: \"sequential_7\"\n",
      "_________________________________________________________________\n",
      " Layer (type)                Output Shape              Param #   \n",
      "=================================================================\n",
      " dense_19 (Dense)            (None, 1000)              39000     \n",
      "                                                                 \n",
      " dense_20 (Dense)            (None, 100)               100100    \n",
      "                                                                 \n",
      " dense_21 (Dense)            (None, 10)                1010      \n",
      "                                                                 \n",
      " dense_22 (Dense)            (None, 1)                 11        \n",
      "                                                                 \n",
      "=================================================================\n",
      "Total params: 140,121\n",
      "Trainable params: 140,121\n",
      "Non-trainable params: 0\n",
      "_________________________________________________________________\n"
     ]
    }
   ],
   "source": [
    "# Define the model - deep neural net, i.e., the number of input features and hidden nodes for each layer.\n",
    "#  YOUR CODE GOES HERE\n",
    "\n",
    "nn = tf.keras.models.Sequential()\n",
    "\n",
    "# First hidden layer\n",
    "nn.add(tf.keras.layers.Dense(units=1000, input_dim=len(X_train[0]), activation=\"relu\"))\n",
    "\n",
    "# Second hidden layer\n",
    "nn.add(tf.keras.layers.Dense(units=100, input_dim=len(X_train[0]), activation=\"relu\"))\n",
    "\n",
    "# Final layer for fun\n",
    "nn.add(tf.keras.layers.Dense(units=10, input_dim=len(X_train[0]), activation=\"relu\"))\n",
    "\n",
    "# Output layer\n",
    "nn.add(tf.keras.layers.Dense(units=1, activation=\"sigmoid\"))\n",
    "\n",
    "# Check the structure of the model\n",
    "nn.summary()"
   ]
  },
  {
   "cell_type": "code",
   "execution_count": 118,
   "metadata": {
    "pycharm": {
     "name": "#%%\n"
    }
   },
   "outputs": [],
   "source": [
    "# Compile the model\n",
    "import os\n",
    "from tensorflow.keras.callbacks import ModelCheckpoint, EarlyStopping\n",
    "\n",
    "# Checkpoints are cool, let's use one.\n",
    "os.makedirs(\"checkpoints/\", exist_ok=True)\n",
    "checkpoint_path = \"checkpoints/best_model.hdf5\"\n",
    "\n",
    "# Create a callback that saves the best model as it progresses\n",
    "checkpoint = ModelCheckpoint(checkpoint_path, verbose=1, monitor='val_accuracy', save_best_only=True)\n",
    "nn.compile(loss=\"binary_crossentropy\", optimizer=\"adam\", metrics=[\"accuracy\"])"
   ]
  },
  {
   "cell_type": "code",
   "execution_count": 119,
   "metadata": {
    "pycharm": {
     "name": "#%%\n"
    }
   },
   "outputs": [
    {
     "name": "stdout",
     "output_type": "stream",
     "text": [
      "Epoch 1/1000\n",
      "794/803 [============================>.] - ETA: 0s - loss: 0.5757 - accuracy: 0.7204\n",
      "Epoch 1: val_accuracy improved from -inf to 0.71858, saving model to checkpoints/best_model.hdf5\n",
      "803/803 [==============================] - 3s 3ms/step - loss: 0.5759 - accuracy: 0.7202 - val_loss: 0.5762 - val_accuracy: 0.7186\n",
      "Epoch 2/1000\n",
      "781/803 [============================>.] - ETA: 0s - loss: 0.5622 - accuracy: 0.7289\n",
      "Epoch 2: val_accuracy did not improve from 0.71858\n",
      "803/803 [==============================] - 2s 2ms/step - loss: 0.5627 - accuracy: 0.7283 - val_loss: 0.5686 - val_accuracy: 0.7157\n",
      "Epoch 3/1000\n",
      "781/803 [============================>.] - ETA: 0s - loss: 0.5595 - accuracy: 0.7327\n",
      "Epoch 3: val_accuracy improved from 0.71858 to 0.72324, saving model to checkpoints/best_model.hdf5\n",
      "803/803 [==============================] - 2s 2ms/step - loss: 0.5597 - accuracy: 0.7325 - val_loss: 0.5674 - val_accuracy: 0.7232\n",
      "Epoch 4/1000\n",
      "802/803 [============================>.] - ETA: 0s - loss: 0.5559 - accuracy: 0.7322\n",
      "Epoch 4: val_accuracy did not improve from 0.72324\n",
      "803/803 [==============================] - 2s 3ms/step - loss: 0.5560 - accuracy: 0.7321 - val_loss: 0.5684 - val_accuracy: 0.7217\n",
      "Epoch 5/1000\n",
      "793/803 [============================>.] - ETA: 0s - loss: 0.5581 - accuracy: 0.7304\n",
      "Epoch 5: val_accuracy improved from 0.72324 to 0.72376, saving model to checkpoints/best_model.hdf5\n",
      "803/803 [==============================] - 2s 2ms/step - loss: 0.5578 - accuracy: 0.7306 - val_loss: 0.5694 - val_accuracy: 0.7238\n",
      "Epoch 6/1000\n",
      "781/803 [============================>.] - ETA: 0s - loss: 0.5532 - accuracy: 0.7352\n",
      "Epoch 6: val_accuracy did not improve from 0.72376\n",
      "803/803 [==============================] - 2s 2ms/step - loss: 0.5523 - accuracy: 0.7362 - val_loss: 0.5750 - val_accuracy: 0.7214\n",
      "Epoch 7/1000\n",
      "800/803 [============================>.] - ETA: 0s - loss: 0.5556 - accuracy: 0.7323\n",
      "Epoch 7: val_accuracy did not improve from 0.72376\n",
      "803/803 [==============================] - 2s 3ms/step - loss: 0.5557 - accuracy: 0.7323 - val_loss: 0.5674 - val_accuracy: 0.7232\n",
      "Epoch 8/1000\n",
      "800/803 [============================>.] - ETA: 0s - loss: 0.5549 - accuracy: 0.7323\n",
      "Epoch 8: val_accuracy did not improve from 0.72376\n",
      "803/803 [==============================] - 2s 2ms/step - loss: 0.5548 - accuracy: 0.7324 - val_loss: 0.5689 - val_accuracy: 0.7186\n",
      "Epoch 9/1000\n",
      "791/803 [============================>.] - ETA: 0s - loss: 0.5508 - accuracy: 0.7355\n",
      "Epoch 9: val_accuracy did not improve from 0.72376\n",
      "803/803 [==============================] - 2s 2ms/step - loss: 0.5511 - accuracy: 0.7349 - val_loss: 0.5698 - val_accuracy: 0.7196\n",
      "Epoch 10/1000\n",
      "792/803 [============================>.] - ETA: 0s - loss: 0.5524 - accuracy: 0.7344\n",
      "Epoch 10: val_accuracy did not improve from 0.72376\n",
      "803/803 [==============================] - 2s 2ms/step - loss: 0.5520 - accuracy: 0.7348 - val_loss: 0.5672 - val_accuracy: 0.7230\n",
      "Epoch 11/1000\n",
      "780/803 [============================>.] - ETA: 0s - loss: 0.5547 - accuracy: 0.7339\n",
      "Epoch 11: val_accuracy did not improve from 0.72376\n",
      "803/803 [==============================] - 2s 2ms/step - loss: 0.5543 - accuracy: 0.7344 - val_loss: 0.5727 - val_accuracy: 0.7216\n",
      "Epoch 12/1000\n",
      "802/803 [============================>.] - ETA: 0s - loss: 0.5481 - accuracy: 0.7383\n",
      "Epoch 12: val_accuracy did not improve from 0.72376\n",
      "803/803 [==============================] - 2s 2ms/step - loss: 0.5481 - accuracy: 0.7384 - val_loss: 0.5650 - val_accuracy: 0.7221\n",
      "Epoch 13/1000\n",
      "792/803 [============================>.] - ETA: 0s - loss: 0.5528 - accuracy: 0.7324\n",
      "Epoch 13: val_accuracy did not improve from 0.72376\n",
      "803/803 [==============================] - 2s 2ms/step - loss: 0.5534 - accuracy: 0.7318 - val_loss: 0.5672 - val_accuracy: 0.7223\n",
      "Epoch 14/1000\n",
      "801/803 [============================>.] - ETA: 0s - loss: 0.5481 - accuracy: 0.7377\n",
      "Epoch 14: val_accuracy did not improve from 0.72376\n",
      "803/803 [==============================] - 2s 2ms/step - loss: 0.5481 - accuracy: 0.7376 - val_loss: 0.5682 - val_accuracy: 0.7216\n",
      "Epoch 15/1000\n",
      "794/803 [============================>.] - ETA: 0s - loss: 0.5527 - accuracy: 0.7361\n",
      "Epoch 15: val_accuracy did not improve from 0.72376\n",
      "803/803 [==============================] - 2s 2ms/step - loss: 0.5526 - accuracy: 0.7364 - val_loss: 0.5656 - val_accuracy: 0.7219\n",
      "Epoch 16/1000\n",
      "799/803 [============================>.] - ETA: 0s - loss: 0.5478 - accuracy: 0.7387\n",
      "Epoch 16: val_accuracy did not improve from 0.72376\n",
      "803/803 [==============================] - 2s 2ms/step - loss: 0.5482 - accuracy: 0.7382 - val_loss: 0.5675 - val_accuracy: 0.7210\n",
      "Epoch 17/1000\n",
      "795/803 [============================>.] - ETA: 0s - loss: 0.5439 - accuracy: 0.7420\n",
      "Epoch 17: val_accuracy did not improve from 0.72376\n",
      "803/803 [==============================] - 2s 2ms/step - loss: 0.5436 - accuracy: 0.7427 - val_loss: 0.5691 - val_accuracy: 0.7221\n",
      "Epoch 18/1000\n",
      "792/803 [============================>.] - ETA: 0s - loss: 0.5508 - accuracy: 0.7339\n",
      "Epoch 18: val_accuracy did not improve from 0.72376\n",
      "803/803 [==============================] - 2s 2ms/step - loss: 0.5517 - accuracy: 0.7332 - val_loss: 0.5684 - val_accuracy: 0.7208\n",
      "Epoch 19/1000\n",
      "791/803 [============================>.] - ETA: 0s - loss: 0.5504 - accuracy: 0.7366\n",
      "Epoch 19: val_accuracy did not improve from 0.72376\n",
      "803/803 [==============================] - 2s 2ms/step - loss: 0.5505 - accuracy: 0.7363 - val_loss: 0.5662 - val_accuracy: 0.7213\n",
      "Epoch 20/1000\n",
      "797/803 [============================>.] - ETA: 0s - loss: 0.5471 - accuracy: 0.7397\n",
      "Epoch 20: val_accuracy improved from 0.72376 to 0.72558, saving model to checkpoints/best_model.hdf5\n",
      "803/803 [==============================] - 2s 2ms/step - loss: 0.5466 - accuracy: 0.7398 - val_loss: 0.5664 - val_accuracy: 0.7256\n",
      "Epoch 21/1000\n",
      "790/803 [============================>.] - ETA: 0s - loss: 0.5458 - accuracy: 0.7408\n",
      "Epoch 21: val_accuracy did not improve from 0.72558\n",
      "803/803 [==============================] - 2s 2ms/step - loss: 0.5457 - accuracy: 0.7414 - val_loss: 0.5673 - val_accuracy: 0.7214\n",
      "Epoch 22/1000\n",
      "792/803 [============================>.] - ETA: 0s - loss: 0.5491 - accuracy: 0.7362\n",
      "Epoch 22: val_accuracy did not improve from 0.72558\n",
      "803/803 [==============================] - 2s 2ms/step - loss: 0.5498 - accuracy: 0.7358 - val_loss: 0.5651 - val_accuracy: 0.7225\n",
      "Epoch 23/1000\n",
      "801/803 [============================>.] - ETA: 0s - loss: 0.5417 - accuracy: 0.7420\n",
      "Epoch 23: val_accuracy did not improve from 0.72558\n",
      "803/803 [==============================] - 2s 2ms/step - loss: 0.5419 - accuracy: 0.7417 - val_loss: 0.5681 - val_accuracy: 0.7205\n",
      "Epoch 24/1000\n",
      "792/803 [============================>.] - ETA: 0s - loss: 0.5488 - accuracy: 0.7365\n",
      "Epoch 24: val_accuracy did not improve from 0.72558\n",
      "803/803 [==============================] - 3s 3ms/step - loss: 0.5491 - accuracy: 0.7362 - val_loss: 0.5671 - val_accuracy: 0.7234\n",
      "Epoch 25/1000\n",
      "803/803 [==============================] - ETA: 0s - loss: 0.5452 - accuracy: 0.7404\n",
      "Epoch 25: val_accuracy did not improve from 0.72558\n",
      "803/803 [==============================] - 2s 2ms/step - loss: 0.5452 - accuracy: 0.7404 - val_loss: 0.5688 - val_accuracy: 0.7243\n",
      "Epoch 26/1000\n",
      "783/803 [============================>.] - ETA: 0s - loss: 0.5521 - accuracy: 0.7320\n",
      "Epoch 26: val_accuracy did not improve from 0.72558\n",
      "803/803 [==============================] - 2s 2ms/step - loss: 0.5514 - accuracy: 0.7326 - val_loss: 0.5704 - val_accuracy: 0.7226\n",
      "Epoch 27/1000\n",
      "783/803 [============================>.] - ETA: 0s - loss: 0.5447 - accuracy: 0.7390\n",
      "Epoch 27: val_accuracy did not improve from 0.72558\n",
      "803/803 [==============================] - 2s 3ms/step - loss: 0.5442 - accuracy: 0.7394 - val_loss: 0.5672 - val_accuracy: 0.7200\n",
      "Epoch 28/1000\n",
      "780/803 [============================>.] - ETA: 0s - loss: 0.5451 - accuracy: 0.7407\n",
      "Epoch 28: val_accuracy did not improve from 0.72558\n",
      "803/803 [==============================] - 2s 3ms/step - loss: 0.5460 - accuracy: 0.7398 - val_loss: 0.5686 - val_accuracy: 0.7205\n",
      "Epoch 29/1000\n",
      "800/803 [============================>.] - ETA: 0s - loss: 0.5463 - accuracy: 0.7405\n",
      "Epoch 29: val_accuracy did not improve from 0.72558\n",
      "803/803 [==============================] - 2s 3ms/step - loss: 0.5462 - accuracy: 0.7406 - val_loss: 0.5663 - val_accuracy: 0.7207\n",
      "Epoch 30/1000\n",
      "797/803 [============================>.] - ETA: 0s - loss: 0.5441 - accuracy: 0.7393\n",
      "Epoch 30: val_accuracy did not improve from 0.72558\n",
      "803/803 [==============================] - 2s 3ms/step - loss: 0.5439 - accuracy: 0.7394 - val_loss: 0.5708 - val_accuracy: 0.7201\n",
      "Epoch 31/1000\n",
      "798/803 [============================>.] - ETA: 0s - loss: 0.5426 - accuracy: 0.7406\n",
      "Epoch 31: val_accuracy did not improve from 0.72558\n",
      "803/803 [==============================] - 2s 3ms/step - loss: 0.5428 - accuracy: 0.7406 - val_loss: 0.5715 - val_accuracy: 0.7200\n",
      "Epoch 32/1000\n",
      "785/803 [============================>.] - ETA: 0s - loss: 0.5492 - accuracy: 0.7357\n",
      "Epoch 32: val_accuracy did not improve from 0.72558\n",
      "803/803 [==============================] - 3s 4ms/step - loss: 0.5493 - accuracy: 0.7356 - val_loss: 0.5675 - val_accuracy: 0.7199\n",
      "Epoch 33/1000\n",
      "786/803 [============================>.] - ETA: 0s - loss: 0.5433 - accuracy: 0.7404\n",
      "Epoch 33: val_accuracy did not improve from 0.72558\n",
      "803/803 [==============================] - 3s 3ms/step - loss: 0.5425 - accuracy: 0.7410 - val_loss: 0.5737 - val_accuracy: 0.7221\n",
      "Epoch 34/1000\n",
      "799/803 [============================>.] - ETA: 0s - loss: 0.5455 - accuracy: 0.7398\n",
      "Epoch 34: val_accuracy did not improve from 0.72558\n",
      "803/803 [==============================] - 3s 3ms/step - loss: 0.5455 - accuracy: 0.7396 - val_loss: 0.5720 - val_accuracy: 0.7188\n",
      "Epoch 35/1000\n",
      "792/803 [============================>.] - ETA: 0s - loss: 0.5448 - accuracy: 0.7390\n",
      "Epoch 35: val_accuracy did not improve from 0.72558\n",
      "803/803 [==============================] - 2s 3ms/step - loss: 0.5450 - accuracy: 0.7391 - val_loss: 0.5701 - val_accuracy: 0.7212\n",
      "Epoch 36/1000\n",
      "792/803 [============================>.] - ETA: 0s - loss: 0.5442 - accuracy: 0.7407\n",
      "Epoch 36: val_accuracy did not improve from 0.72558\n",
      "803/803 [==============================] - 2s 3ms/step - loss: 0.5453 - accuracy: 0.7401 - val_loss: 0.5667 - val_accuracy: 0.7205\n",
      "Epoch 37/1000\n",
      "803/803 [==============================] - ETA: 0s - loss: 0.5433 - accuracy: 0.7399\n",
      "Epoch 37: val_accuracy did not improve from 0.72558\n",
      "803/803 [==============================] - 2s 3ms/step - loss: 0.5433 - accuracy: 0.7399 - val_loss: 0.5690 - val_accuracy: 0.7221\n",
      "Epoch 38/1000\n",
      "787/803 [============================>.] - ETA: 0s - loss: 0.5433 - accuracy: 0.7401\n",
      "Epoch 38: val_accuracy did not improve from 0.72558\n",
      "803/803 [==============================] - 2s 3ms/step - loss: 0.5446 - accuracy: 0.7395 - val_loss: 0.5685 - val_accuracy: 0.7195\n",
      "Epoch 39/1000\n",
      "784/803 [============================>.] - ETA: 0s - loss: 0.5421 - accuracy: 0.7410\n",
      "Epoch 39: val_accuracy did not improve from 0.72558\n",
      "803/803 [==============================] - 3s 3ms/step - loss: 0.5433 - accuracy: 0.7400 - val_loss: 0.5700 - val_accuracy: 0.7205\n",
      "Epoch 40/1000\n",
      "790/803 [============================>.] - ETA: 0s - loss: 0.5436 - accuracy: 0.7402\n",
      "Epoch 40: val_accuracy did not improve from 0.72558\n",
      "803/803 [==============================] - 2s 3ms/step - loss: 0.5438 - accuracy: 0.7398 - val_loss: 0.5680 - val_accuracy: 0.7200\n",
      "Epoch 41/1000\n",
      "787/803 [============================>.] - ETA: 0s - loss: 0.5437 - accuracy: 0.7398\n",
      "Epoch 41: val_accuracy did not improve from 0.72558\n",
      "803/803 [==============================] - 2s 3ms/step - loss: 0.5432 - accuracy: 0.7404 - val_loss: 0.5713 - val_accuracy: 0.7183\n",
      "Epoch 42/1000\n",
      "798/803 [============================>.] - ETA: 0s - loss: 0.5419 - accuracy: 0.7400\n",
      "Epoch 42: val_accuracy did not improve from 0.72558\n",
      "803/803 [==============================] - 2s 3ms/step - loss: 0.5418 - accuracy: 0.7402 - val_loss: 0.5749 - val_accuracy: 0.7186\n",
      "Epoch 43/1000\n",
      "784/803 [============================>.] - ETA: 0s - loss: 0.5436 - accuracy: 0.7409\n",
      "Epoch 43: val_accuracy did not improve from 0.72558\n",
      "803/803 [==============================] - 2s 2ms/step - loss: 0.5440 - accuracy: 0.7403 - val_loss: 0.5702 - val_accuracy: 0.7191\n",
      "Epoch 44/1000\n",
      "794/803 [============================>.] - ETA: 0s - loss: 0.5439 - accuracy: 0.7403\n",
      "Epoch 44: val_accuracy did not improve from 0.72558\n",
      "803/803 [==============================] - 2s 3ms/step - loss: 0.5436 - accuracy: 0.7404 - val_loss: 0.5721 - val_accuracy: 0.7191\n",
      "Epoch 45/1000\n",
      "785/803 [============================>.] - ETA: 0s - loss: 0.5424 - accuracy: 0.7416\n",
      "Epoch 45: val_accuracy did not improve from 0.72558\n",
      "803/803 [==============================] - 2s 2ms/step - loss: 0.5427 - accuracy: 0.7413 - val_loss: 0.5713 - val_accuracy: 0.7209\n",
      "Epoch 46/1000\n",
      "784/803 [============================>.] - ETA: 0s - loss: 0.5425 - accuracy: 0.7406\n",
      "Epoch 46: val_accuracy did not improve from 0.72558\n",
      "803/803 [==============================] - 2s 3ms/step - loss: 0.5424 - accuracy: 0.7404 - val_loss: 0.5711 - val_accuracy: 0.7191\n",
      "Epoch 47/1000\n",
      "800/803 [============================>.] - ETA: 0s - loss: 0.5415 - accuracy: 0.7406\n",
      "Epoch 47: val_accuracy did not improve from 0.72558\n",
      "803/803 [==============================] - 2s 3ms/step - loss: 0.5416 - accuracy: 0.7406 - val_loss: 0.5704 - val_accuracy: 0.7208\n",
      "Epoch 48/1000\n",
      "797/803 [============================>.] - ETA: 0s - loss: 0.5439 - accuracy: 0.7401\n",
      "Epoch 48: val_accuracy did not improve from 0.72558\n",
      "803/803 [==============================] - 2s 3ms/step - loss: 0.5434 - accuracy: 0.7404 - val_loss: 0.5706 - val_accuracy: 0.7217\n",
      "Epoch 49/1000\n",
      "795/803 [============================>.] - ETA: 0s - loss: 0.5407 - accuracy: 0.7436\n",
      "Epoch 49: val_accuracy did not improve from 0.72558\n",
      "803/803 [==============================] - 2s 3ms/step - loss: 0.5413 - accuracy: 0.7429 - val_loss: 0.5730 - val_accuracy: 0.7196\n",
      "Epoch 50/1000\n",
      "795/803 [============================>.] - ETA: 0s - loss: 0.5400 - accuracy: 0.7411\n",
      "Epoch 50: val_accuracy did not improve from 0.72558\n",
      "803/803 [==============================] - 2s 3ms/step - loss: 0.5399 - accuracy: 0.7409 - val_loss: 0.5717 - val_accuracy: 0.7217\n",
      "Epoch 51/1000\n",
      "798/803 [============================>.] - ETA: 0s - loss: 0.5436 - accuracy: 0.7406\n",
      "Epoch 51: val_accuracy did not improve from 0.72558\n",
      "803/803 [==============================] - 2s 3ms/step - loss: 0.5433 - accuracy: 0.7409 - val_loss: 0.5730 - val_accuracy: 0.7194\n",
      "Epoch 52/1000\n",
      "791/803 [============================>.] - ETA: 0s - loss: 0.5406 - accuracy: 0.7421\n",
      "Epoch 52: val_accuracy did not improve from 0.72558\n",
      "803/803 [==============================] - 2s 2ms/step - loss: 0.5405 - accuracy: 0.7417 - val_loss: 0.5728 - val_accuracy: 0.7196\n",
      "Epoch 53/1000\n",
      "786/803 [============================>.] - ETA: 0s - loss: 0.5425 - accuracy: 0.7402\n",
      "Epoch 53: val_accuracy did not improve from 0.72558\n",
      "803/803 [==============================] - 2s 2ms/step - loss: 0.5431 - accuracy: 0.7396 - val_loss: 0.5758 - val_accuracy: 0.7203\n",
      "Epoch 54/1000\n",
      "779/803 [============================>.] - ETA: 0s - loss: 0.5435 - accuracy: 0.7394\n",
      "Epoch 54: val_accuracy did not improve from 0.72558\n",
      "803/803 [==============================] - 3s 3ms/step - loss: 0.5443 - accuracy: 0.7385 - val_loss: 0.5731 - val_accuracy: 0.7214\n",
      "Epoch 55/1000\n",
      "793/803 [============================>.] - ETA: 0s - loss: 0.5414 - accuracy: 0.7414\n",
      "Epoch 55: val_accuracy did not improve from 0.72558\n",
      "803/803 [==============================] - 2s 3ms/step - loss: 0.5416 - accuracy: 0.7412 - val_loss: 0.5764 - val_accuracy: 0.7207\n",
      "Epoch 56/1000\n",
      "793/803 [============================>.] - ETA: 0s - loss: 0.5352 - accuracy: 0.7459\n",
      "Epoch 56: val_accuracy did not improve from 0.72558\n",
      "803/803 [==============================] - 2s 3ms/step - loss: 0.5354 - accuracy: 0.7457 - val_loss: 0.5748 - val_accuracy: 0.7217\n",
      "Epoch 57/1000\n",
      "782/803 [============================>.] - ETA: 0s - loss: 0.5418 - accuracy: 0.7398\n",
      "Epoch 57: val_accuracy did not improve from 0.72558\n",
      "803/803 [==============================] - 2s 3ms/step - loss: 0.5420 - accuracy: 0.7392 - val_loss: 0.5779 - val_accuracy: 0.7208\n",
      "Epoch 58/1000\n",
      "789/803 [============================>.] - ETA: 0s - loss: 0.5409 - accuracy: 0.7429\n",
      "Epoch 58: val_accuracy did not improve from 0.72558\n",
      "803/803 [==============================] - 3s 4ms/step - loss: 0.5408 - accuracy: 0.7430 - val_loss: 0.5834 - val_accuracy: 0.7235\n",
      "Epoch 59/1000\n",
      "795/803 [============================>.] - ETA: 0s - loss: 0.5455 - accuracy: 0.7381\n",
      "Epoch 59: val_accuracy did not improve from 0.72558\n",
      "803/803 [==============================] - 3s 3ms/step - loss: 0.5451 - accuracy: 0.7381 - val_loss: 0.5790 - val_accuracy: 0.7212\n",
      "Epoch 60/1000\n",
      "803/803 [==============================] - ETA: 0s - loss: 0.5382 - accuracy: 0.7437\n",
      "Epoch 60: val_accuracy did not improve from 0.72558\n",
      "803/803 [==============================] - 2s 3ms/step - loss: 0.5382 - accuracy: 0.7437 - val_loss: 0.5760 - val_accuracy: 0.7216\n",
      "Epoch 61/1000\n",
      "790/803 [============================>.] - ETA: 0s - loss: 0.5409 - accuracy: 0.7419\n",
      "Epoch 61: val_accuracy did not improve from 0.72558\n",
      "803/803 [==============================] - 2s 3ms/step - loss: 0.5406 - accuracy: 0.7420 - val_loss: 0.5804 - val_accuracy: 0.7207\n",
      "Epoch 62/1000\n",
      "782/803 [============================>.] - ETA: 0s - loss: 0.5424 - accuracy: 0.7397\n",
      "Epoch 62: val_accuracy did not improve from 0.72558\n",
      "803/803 [==============================] - 2s 3ms/step - loss: 0.5427 - accuracy: 0.7393 - val_loss: 0.5763 - val_accuracy: 0.7199\n",
      "Epoch 62: early stopping\n"
     ]
    }
   ],
   "source": [
    "# Train the model\n",
    "## another fancy trick, Early Stopping\n",
    "es = EarlyStopping(monitor='val_loss', mode='min', verbose=1, patience=50)\n",
    "\n",
    "history = nn.fit(X_train_scaled, y_train, epochs=1000, callbacks=[checkpoint, es], validation_split=0.3,\n",
    "                 steps_per_epoch=len(X_train) // 32)"
   ]
  },
  {
   "cell_type": "code",
   "execution_count": 120,
   "metadata": {
    "pycharm": {
     "name": "#%%\n"
    }
   },
   "outputs": [
    {
     "name": "stdout",
     "output_type": "stream",
     "text": [
      "268/268 - 0s - loss: 0.5641 - accuracy: 0.7228 - 390ms/epoch - 1ms/step\n",
      "Loss: 0.5640957951545715, Accuracy: 0.7227988243103027\n"
     ]
    }
   ],
   "source": [
    "# Evaluate the model using the test data\n",
    "model_loss, model_accuracy = nn.evaluate(X_test_scaled, y_test, verbose=2)\n",
    "print(f\"Loss: {model_loss}, Accuracy: {model_accuracy}\")"
   ]
  },
  {
   "cell_type": "code",
   "execution_count": 123,
   "outputs": [],
   "source": [
    "# Loading weights from best model\n",
    "nn.load_weights('checkpoints/best_model.hdf5')\n",
    "\n",
    "# Saving all model\n",
    "nn.save('checkpoints/model.hdf5')"
   ],
   "metadata": {
    "collapsed": false,
    "pycharm": {
     "name": "#%%\n"
    }
   }
  },
  {
   "cell_type": "markdown",
   "source": [
    "# Optimize model to get to 75% accuracy.\n",
    "\n",
    "Where did we land?"
   ],
   "metadata": {
    "collapsed": false,
    "pycharm": {
     "name": "#%% md\n"
    }
   }
  },
  {
   "cell_type": "code",
   "execution_count": 125,
   "outputs": [
    {
     "data": {
      "text/plain": "Text(0.5, 1.0, 'loss')"
     },
     "execution_count": 125,
     "metadata": {},
     "output_type": "execute_result"
    },
    {
     "data": {
      "text/plain": "<Figure size 1224x288 with 2 Axes>",
      "image/png": "[encoded data removed]"
     },
     "metadata": {
      "needs_background": "light"
     },
     "output_type": "display_data"
    }
   ],
   "source": [
    "import matplotlib.pyplot as plt\n",
    "\n",
    "# Plot learning curves\n",
    "fig = plt.figure(figsize=(17, 4))\n",
    "\n",
    "plt.subplot(121)\n",
    "plt.plot(history.history['accuracy'], label='acc')\n",
    "plt.plot(history.history['val_accuracy'], label='val_acc')\n",
    "plt.legend()\n",
    "plt.grid()\n",
    "plt.title(f'accuracy')\n",
    "\n",
    "plt.subplot(122)\n",
    "plt.plot(history.history['loss'], label='loss')\n",
    "plt.plot(history.history['val_loss'], label='val_loss')\n",
    "plt.legend()\n",
    "plt.grid()\n",
    "plt.title(f'loss')"
   ],
   "metadata": {
    "collapsed": false,
    "pycharm": {
     "name": "#%%\n"
    }
   }
  },
  {
   "cell_type": "markdown",
   "source": [
    "Kind of looks like accuracy got over 75 %, But I learned how to keep training a model.  So let's try"
   ],
   "metadata": {
    "collapsed": false,
    "pycharm": {
     "name": "#%% md\n"
    }
   }
  },
  {
   "cell_type": "code",
   "execution_count": 126,
   "outputs": [
    {
     "name": "stdout",
     "output_type": "stream",
     "text": [
      "Epoch 1/1000\n",
      "793/803 [============================>.] - ETA: 0s - loss: 0.5497 - accuracy: 0.7371\n",
      "Epoch 1: val_accuracy did not improve from 0.72558\n",
      "803/803 [==============================] - 3s 3ms/step - loss: 0.5502 - accuracy: 0.7369 - val_loss: 0.5654 - val_accuracy: 0.7212\n",
      "Epoch 2/1000\n",
      "785/803 [============================>.] - ETA: 0s - loss: 0.5467 - accuracy: 0.7386\n",
      "Epoch 2: val_accuracy did not improve from 0.72558\n",
      "803/803 [==============================] - 2s 2ms/step - loss: 0.5471 - accuracy: 0.7380 - val_loss: 0.5688 - val_accuracy: 0.7212\n",
      "Epoch 3/1000\n",
      "783/803 [============================>.] - ETA: 0s - loss: 0.5457 - accuracy: 0.7399\n",
      "Epoch 3: val_accuracy did not improve from 0.72558\n",
      "803/803 [==============================] - 2s 2ms/step - loss: 0.5462 - accuracy: 0.7394 - val_loss: 0.5678 - val_accuracy: 0.7201\n",
      "Epoch 4/1000\n",
      "789/803 [============================>.] - ETA: 0s - loss: 0.5464 - accuracy: 0.7387\n",
      "Epoch 4: val_accuracy did not improve from 0.72558\n",
      "803/803 [==============================] - 2s 2ms/step - loss: 0.5462 - accuracy: 0.7385 - val_loss: 0.5694 - val_accuracy: 0.7230\n",
      "Epoch 5/1000\n",
      "788/803 [============================>.] - ETA: 0s - loss: 0.5478 - accuracy: 0.7372\n",
      "Epoch 5: val_accuracy did not improve from 0.72558\n",
      "803/803 [==============================] - 2s 2ms/step - loss: 0.5489 - accuracy: 0.7369 - val_loss: 0.5672 - val_accuracy: 0.7225\n",
      "Epoch 6/1000\n",
      "803/803 [==============================] - ETA: 0s - loss: 0.5454 - accuracy: 0.7391\n",
      "Epoch 6: val_accuracy did not improve from 0.72558\n",
      "803/803 [==============================] - 2s 3ms/step - loss: 0.5454 - accuracy: 0.7391 - val_loss: 0.5665 - val_accuracy: 0.7218\n",
      "Epoch 7/1000\n",
      "785/803 [============================>.] - ETA: 0s - loss: 0.5439 - accuracy: 0.7426\n",
      "Epoch 7: val_accuracy did not improve from 0.72558\n",
      "803/803 [==============================] - 2s 3ms/step - loss: 0.5434 - accuracy: 0.7431 - val_loss: 0.5694 - val_accuracy: 0.7222\n",
      "Epoch 8/1000\n",
      "796/803 [============================>.] - ETA: 0s - loss: 0.5498 - accuracy: 0.7349\n",
      "Epoch 8: val_accuracy did not improve from 0.72558\n",
      "803/803 [==============================] - 2s 2ms/step - loss: 0.5497 - accuracy: 0.7350 - val_loss: 0.5659 - val_accuracy: 0.7216\n",
      "Epoch 9/1000\n",
      "795/803 [============================>.] - ETA: 0s - loss: 0.5409 - accuracy: 0.7432\n",
      "Epoch 9: val_accuracy did not improve from 0.72558\n",
      "803/803 [==============================] - 3s 4ms/step - loss: 0.5410 - accuracy: 0.7428 - val_loss: 0.5665 - val_accuracy: 0.7221\n",
      "Epoch 10/1000\n",
      "790/803 [============================>.] - ETA: 0s - loss: 0.5461 - accuracy: 0.7381\n",
      "Epoch 10: val_accuracy did not improve from 0.72558\n",
      "803/803 [==============================] - 2s 3ms/step - loss: 0.5458 - accuracy: 0.7381 - val_loss: 0.5727 - val_accuracy: 0.7214\n",
      "Epoch 11/1000\n",
      "782/803 [============================>.] - ETA: 0s - loss: 0.5432 - accuracy: 0.7412\n",
      "Epoch 11: val_accuracy did not improve from 0.72558\n",
      "803/803 [==============================] - 2s 2ms/step - loss: 0.5430 - accuracy: 0.7414 - val_loss: 0.5701 - val_accuracy: 0.7203\n",
      "Epoch 12/1000\n",
      "789/803 [============================>.] - ETA: 0s - loss: 0.5464 - accuracy: 0.7391\n",
      "Epoch 12: val_accuracy did not improve from 0.72558\n",
      "803/803 [==============================] - 2s 2ms/step - loss: 0.5469 - accuracy: 0.7387 - val_loss: 0.5669 - val_accuracy: 0.7205\n",
      "Epoch 13/1000\n",
      "786/803 [============================>.] - ETA: 0s - loss: 0.5425 - accuracy: 0.7396\n",
      "Epoch 13: val_accuracy did not improve from 0.72558\n",
      "803/803 [==============================] - 2s 2ms/step - loss: 0.5428 - accuracy: 0.7393 - val_loss: 0.5668 - val_accuracy: 0.7210\n",
      "Epoch 14/1000\n",
      "791/803 [============================>.] - ETA: 0s - loss: 0.5460 - accuracy: 0.7406\n",
      "Epoch 14: val_accuracy did not improve from 0.72558\n",
      "803/803 [==============================] - 2s 2ms/step - loss: 0.5459 - accuracy: 0.7407 - val_loss: 0.5704 - val_accuracy: 0.7192\n",
      "Epoch 15/1000\n",
      "795/803 [============================>.] - ETA: 0s - loss: 0.5420 - accuracy: 0.7413\n",
      "Epoch 15: val_accuracy did not improve from 0.72558\n",
      "803/803 [==============================] - 2s 2ms/step - loss: 0.5424 - accuracy: 0.7409 - val_loss: 0.5694 - val_accuracy: 0.7240\n",
      "Epoch 16/1000\n",
      "803/803 [==============================] - ETA: 0s - loss: 0.5428 - accuracy: 0.7389\n",
      "Epoch 16: val_accuracy did not improve from 0.72558\n",
      "803/803 [==============================] - 2s 2ms/step - loss: 0.5428 - accuracy: 0.7389 - val_loss: 0.5714 - val_accuracy: 0.7208\n",
      "Epoch 17/1000\n",
      "788/803 [============================>.] - ETA: 0s - loss: 0.5464 - accuracy: 0.7369\n",
      "Epoch 17: val_accuracy did not improve from 0.72558\n",
      "803/803 [==============================] - 2s 2ms/step - loss: 0.5465 - accuracy: 0.7369 - val_loss: 0.5717 - val_accuracy: 0.7230\n",
      "Epoch 18/1000\n",
      "795/803 [============================>.] - ETA: 0s - loss: 0.5447 - accuracy: 0.7405\n",
      "Epoch 18: val_accuracy did not improve from 0.72558\n",
      "803/803 [==============================] - 2s 2ms/step - loss: 0.5444 - accuracy: 0.7407 - val_loss: 0.5682 - val_accuracy: 0.7242\n",
      "Epoch 19/1000\n",
      "792/803 [============================>.] - ETA: 0s - loss: 0.5458 - accuracy: 0.7391\n",
      "Epoch 19: val_accuracy did not improve from 0.72558\n",
      "803/803 [==============================] - 2s 2ms/step - loss: 0.5458 - accuracy: 0.7391 - val_loss: 0.5669 - val_accuracy: 0.7217\n",
      "Epoch 20/1000\n",
      "794/803 [============================>.] - ETA: 0s - loss: 0.5382 - accuracy: 0.7432\n",
      "Epoch 20: val_accuracy did not improve from 0.72558\n",
      "803/803 [==============================] - 2s 2ms/step - loss: 0.5387 - accuracy: 0.7427 - val_loss: 0.5686 - val_accuracy: 0.7223\n",
      "Epoch 21/1000\n",
      "781/803 [============================>.] - ETA: 0s - loss: 0.5469 - accuracy: 0.7390\n",
      "Epoch 21: val_accuracy did not improve from 0.72558\n",
      "803/803 [==============================] - 2s 2ms/step - loss: 0.5476 - accuracy: 0.7382 - val_loss: 0.5704 - val_accuracy: 0.7227\n",
      "Epoch 22/1000\n",
      "788/803 [============================>.] - ETA: 0s - loss: 0.5409 - accuracy: 0.7409\n",
      "Epoch 22: val_accuracy did not improve from 0.72558\n",
      "803/803 [==============================] - 2s 2ms/step - loss: 0.5404 - accuracy: 0.7411 - val_loss: 0.5718 - val_accuracy: 0.7209\n",
      "Epoch 23/1000\n",
      "803/803 [==============================] - ETA: 0s - loss: 0.5420 - accuracy: 0.7435\n",
      "Epoch 23: val_accuracy did not improve from 0.72558\n",
      "803/803 [==============================] - 2s 2ms/step - loss: 0.5420 - accuracy: 0.7435 - val_loss: 0.5722 - val_accuracy: 0.7223\n",
      "Epoch 24/1000\n",
      "787/803 [============================>.] - ETA: 0s - loss: 0.5480 - accuracy: 0.7351\n",
      "Epoch 24: val_accuracy did not improve from 0.72558\n",
      "803/803 [==============================] - 2s 2ms/step - loss: 0.5477 - accuracy: 0.7353 - val_loss: 0.5741 - val_accuracy: 0.7223\n",
      "Epoch 25/1000\n",
      "792/803 [============================>.] - ETA: 0s - loss: 0.5421 - accuracy: 0.7419\n",
      "Epoch 25: val_accuracy did not improve from 0.72558\n",
      "803/803 [==============================] - 2s 2ms/step - loss: 0.5414 - accuracy: 0.7424 - val_loss: 0.5713 - val_accuracy: 0.7225\n",
      "Epoch 26/1000\n",
      "780/803 [============================>.] - ETA: 0s - loss: 0.5409 - accuracy: 0.7438\n",
      "Epoch 26: val_accuracy did not improve from 0.72558\n",
      "803/803 [==============================] - 2s 2ms/step - loss: 0.5406 - accuracy: 0.7439 - val_loss: 0.5698 - val_accuracy: 0.7195\n",
      "Epoch 27/1000\n",
      "792/803 [============================>.] - ETA: 0s - loss: 0.5412 - accuracy: 0.7424\n",
      "Epoch 27: val_accuracy did not improve from 0.72558\n",
      "803/803 [==============================] - 2s 2ms/step - loss: 0.5413 - accuracy: 0.7423 - val_loss: 0.5759 - val_accuracy: 0.7217\n",
      "Epoch 28/1000\n",
      "790/803 [============================>.] - ETA: 0s - loss: 0.5433 - accuracy: 0.7391\n",
      "Epoch 28: val_accuracy did not improve from 0.72558\n",
      "803/803 [==============================] - 2s 2ms/step - loss: 0.5439 - accuracy: 0.7384 - val_loss: 0.5709 - val_accuracy: 0.7226\n",
      "Epoch 29/1000\n",
      "780/803 [============================>.] - ETA: 0s - loss: 0.5437 - accuracy: 0.7404\n",
      "Epoch 29: val_accuracy did not improve from 0.72558\n",
      "803/803 [==============================] - 2s 2ms/step - loss: 0.5436 - accuracy: 0.7399 - val_loss: 0.5721 - val_accuracy: 0.7210\n",
      "Epoch 30/1000\n",
      "785/803 [============================>.] - ETA: 0s - loss: 0.5429 - accuracy: 0.7391\n",
      "Epoch 30: val_accuracy did not improve from 0.72558\n",
      "803/803 [==============================] - 2s 2ms/step - loss: 0.5425 - accuracy: 0.7394 - val_loss: 0.5721 - val_accuracy: 0.7217\n",
      "Epoch 31/1000\n",
      "797/803 [============================>.] - ETA: 0s - loss: 0.5414 - accuracy: 0.7422\n",
      "Epoch 31: val_accuracy did not improve from 0.72558\n",
      "803/803 [==============================] - 2s 2ms/step - loss: 0.5411 - accuracy: 0.7424 - val_loss: 0.5741 - val_accuracy: 0.7227\n",
      "Epoch 32/1000\n",
      "796/803 [============================>.] - ETA: 0s - loss: 0.5419 - accuracy: 0.7419\n",
      "Epoch 32: val_accuracy did not improve from 0.72558\n",
      "803/803 [==============================] - 2s 2ms/step - loss: 0.5414 - accuracy: 0.7424 - val_loss: 0.5714 - val_accuracy: 0.7209\n",
      "Epoch 33/1000\n",
      "786/803 [============================>.] - ETA: 0s - loss: 0.5401 - accuracy: 0.7418\n",
      "Epoch 33: val_accuracy did not improve from 0.72558\n",
      "803/803 [==============================] - 2s 2ms/step - loss: 0.5398 - accuracy: 0.7420 - val_loss: 0.5731 - val_accuracy: 0.7199\n",
      "Epoch 34/1000\n",
      "782/803 [============================>.] - ETA: 0s - loss: 0.5428 - accuracy: 0.7404\n",
      "Epoch 34: val_accuracy did not improve from 0.72558\n",
      "803/803 [==============================] - 2s 2ms/step - loss: 0.5436 - accuracy: 0.7395 - val_loss: 0.5721 - val_accuracy: 0.7204\n",
      "Epoch 35/1000\n",
      "797/803 [============================>.] - ETA: 0s - loss: 0.5421 - accuracy: 0.7417\n",
      "Epoch 35: val_accuracy did not improve from 0.72558\n",
      "803/803 [==============================] - 2s 2ms/step - loss: 0.5417 - accuracy: 0.7420 - val_loss: 0.5703 - val_accuracy: 0.7225\n",
      "Epoch 36/1000\n",
      "798/803 [============================>.] - ETA: 0s - loss: 0.5423 - accuracy: 0.7407\n",
      "Epoch 36: val_accuracy did not improve from 0.72558\n",
      "803/803 [==============================] - 2s 2ms/step - loss: 0.5420 - accuracy: 0.7407 - val_loss: 0.5764 - val_accuracy: 0.7181\n",
      "Epoch 37/1000\n",
      "786/803 [============================>.] - ETA: 0s - loss: 0.5405 - accuracy: 0.7417\n",
      "Epoch 37: val_accuracy did not improve from 0.72558\n",
      "803/803 [==============================] - 2s 2ms/step - loss: 0.5406 - accuracy: 0.7415 - val_loss: 0.5758 - val_accuracy: 0.7230\n",
      "Epoch 38/1000\n",
      "797/803 [============================>.] - ETA: 0s - loss: 0.5411 - accuracy: 0.7409\n",
      "Epoch 38: val_accuracy did not improve from 0.72558\n",
      "803/803 [==============================] - 3s 4ms/step - loss: 0.5409 - accuracy: 0.7410 - val_loss: 0.5777 - val_accuracy: 0.7225\n",
      "Epoch 39/1000\n",
      "799/803 [============================>.] - ETA: 0s - loss: 0.5407 - accuracy: 0.7412\n",
      "Epoch 39: val_accuracy did not improve from 0.72558\n",
      "803/803 [==============================] - 2s 3ms/step - loss: 0.5405 - accuracy: 0.7413 - val_loss: 0.5827 - val_accuracy: 0.7223\n",
      "Epoch 40/1000\n",
      "796/803 [============================>.] - ETA: 0s - loss: 0.5407 - accuracy: 0.7425\n",
      "Epoch 40: val_accuracy did not improve from 0.72558\n",
      "803/803 [==============================] - 3s 3ms/step - loss: 0.5405 - accuracy: 0.7427 - val_loss: 0.5748 - val_accuracy: 0.7204\n",
      "Epoch 41/1000\n",
      "797/803 [============================>.] - ETA: 0s - loss: 0.5418 - accuracy: 0.7405\n",
      "Epoch 41: val_accuracy did not improve from 0.72558\n",
      "803/803 [==============================] - 3s 3ms/step - loss: 0.5420 - accuracy: 0.7401 - val_loss: 0.5760 - val_accuracy: 0.7217\n",
      "Epoch 42/1000\n",
      "789/803 [============================>.] - ETA: 0s - loss: 0.5414 - accuracy: 0.7414\n",
      "Epoch 42: val_accuracy did not improve from 0.72558\n",
      "803/803 [==============================] - 2s 3ms/step - loss: 0.5417 - accuracy: 0.7410 - val_loss: 0.5751 - val_accuracy: 0.7204\n",
      "Epoch 43/1000\n",
      "798/803 [============================>.] - ETA: 0s - loss: 0.5395 - accuracy: 0.7431\n",
      "Epoch 43: val_accuracy did not improve from 0.72558\n",
      "803/803 [==============================] - 3s 3ms/step - loss: 0.5394 - accuracy: 0.7431 - val_loss: 0.5804 - val_accuracy: 0.7209\n",
      "Epoch 44/1000\n",
      "799/803 [============================>.] - ETA: 0s - loss: 0.5420 - accuracy: 0.7406\n",
      "Epoch 44: val_accuracy did not improve from 0.72558\n",
      "803/803 [==============================] - 3s 3ms/step - loss: 0.5417 - accuracy: 0.7408 - val_loss: 0.5750 - val_accuracy: 0.7203\n",
      "Epoch 45/1000\n",
      "795/803 [============================>.] - ETA: 0s - loss: 0.5410 - accuracy: 0.7417\n",
      "Epoch 45: val_accuracy did not improve from 0.72558\n",
      "803/803 [==============================] - 2s 2ms/step - loss: 0.5408 - accuracy: 0.7418 - val_loss: 0.5809 - val_accuracy: 0.7214\n",
      "Epoch 46/1000\n",
      "799/803 [============================>.] - ETA: 0s - loss: 0.5408 - accuracy: 0.7426\n",
      "Epoch 46: val_accuracy did not improve from 0.72558\n",
      "803/803 [==============================] - 2s 3ms/step - loss: 0.5405 - accuracy: 0.7429 - val_loss: 0.5751 - val_accuracy: 0.7199\n",
      "Epoch 47/1000\n",
      "803/803 [==============================] - ETA: 0s - loss: 0.5415 - accuracy: 0.7408\n",
      "Epoch 47: val_accuracy did not improve from 0.72558\n",
      "803/803 [==============================] - 2s 2ms/step - loss: 0.5415 - accuracy: 0.7408 - val_loss: 0.5752 - val_accuracy: 0.7191\n",
      "Epoch 48/1000\n",
      "781/803 [============================>.] - ETA: 0s - loss: 0.5376 - accuracy: 0.7440\n",
      "Epoch 48: val_accuracy did not improve from 0.72558\n",
      "803/803 [==============================] - 2s 2ms/step - loss: 0.5380 - accuracy: 0.7442 - val_loss: 0.5767 - val_accuracy: 0.7201\n",
      "Epoch 49/1000\n",
      "784/803 [============================>.] - ETA: 0s - loss: 0.5398 - accuracy: 0.7419\n",
      "Epoch 49: val_accuracy did not improve from 0.72558\n",
      "803/803 [==============================] - 2s 2ms/step - loss: 0.5390 - accuracy: 0.7418 - val_loss: 0.5816 - val_accuracy: 0.7190\n",
      "Epoch 50/1000\n",
      "794/803 [============================>.] - ETA: 0s - loss: 0.5428 - accuracy: 0.7400\n",
      "Epoch 50: val_accuracy did not improve from 0.72558\n",
      "803/803 [==============================] - 3s 3ms/step - loss: 0.5428 - accuracy: 0.7402 - val_loss: 0.5770 - val_accuracy: 0.7218\n",
      "Epoch 51/1000\n",
      "801/803 [============================>.] - ETA: 0s - loss: 0.5377 - accuracy: 0.7434\n",
      "Epoch 51: val_accuracy did not improve from 0.72558\n",
      "803/803 [==============================] - 2s 3ms/step - loss: 0.5376 - accuracy: 0.7435 - val_loss: 0.5820 - val_accuracy: 0.7199\n",
      "Epoch 51: early stopping\n"
     ]
    }
   ],
   "source": [
    "from tensorflow.keras.models import load_model\n",
    "\n",
    "previous_model = load_model('checkpoints/model.hdf5')\n",
    "new_history = previous_model.fit(X_train_scaled, y_train, epochs=1000, callbacks=[checkpoint, es], validation_split=0.3,\n",
    "                                 steps_per_epoch=len(X_train) // 32)\n"
   ],
   "metadata": {
    "collapsed": false,
    "pycharm": {
     "name": "#%%\n"
    }
   }
  },
  {
   "cell_type": "code",
   "execution_count": 127,
   "outputs": [
    {
     "name": "stdout",
     "output_type": "stream",
     "text": [
      "268/268 - 1s - loss: 0.5601 - accuracy: 0.7247 - 551ms/epoch - 2ms/step\n",
      "Loss: 0.5600528120994568, Accuracy: 0.7246647477149963\n"
     ]
    }
   ],
   "source": [
    "# Evaluate the model using the test data\n",
    "model_loss, model_accuracy = nn.evaluate(X_test_scaled, y_test, verbose=2)\n",
    "print(f\"Loss: {model_loss}, Accuracy: {model_accuracy}\")"
   ],
   "metadata": {
    "collapsed": false,
    "pycharm": {
     "name": "#%%\n"
    }
   }
  },
  {
   "cell_type": "markdown",
   "source": [
    "# Nope, ok, I have to try one more time?\n",
    "\n",
    "Let's do a different model."
   ],
   "metadata": {
    "collapsed": false,
    "pycharm": {
     "name": "#%% md\n"
    }
   }
  },
  {
   "cell_type": "code",
   "execution_count": 129,
   "outputs": [
    {
     "name": "stdout",
     "output_type": "stream",
     "text": [
      "Model: \"sequential_9\"\n",
      "_________________________________________________________________\n",
      " Layer (type)                Output Shape              Param #   \n",
      "=================================================================\n",
      " dense_26 (Dense)            (None, 20)                780       \n",
      "                                                                 \n",
      " dense_27 (Dense)            (None, 10)                210       \n",
      "                                                                 \n",
      " dense_28 (Dense)            (None, 1)                 11        \n",
      "                                                                 \n",
      "=================================================================\n",
      "Total params: 1,001\n",
      "Trainable params: 1,001\n",
      "Non-trainable params: 0\n",
      "_________________________________________________________________\n"
     ]
    }
   ],
   "source": [
    "mm = tf.keras.models.Sequential()\n",
    "\n",
    "# First hidden layer\n",
    "mm.add(tf.keras.layers.Dense(units=20, input_dim=len(X_train[0]), activation=\"relu\"))\n",
    "\n",
    "# Second hidden layer\n",
    "mm.add(tf.keras.layers.Dense(units=10, input_dim=len(X_train[0]), activation=\"relu\"))\n",
    "\n",
    "# Output layer\n",
    "mm.add(tf.keras.layers.Dense(units=1, activation=\"sigmoid\"))\n",
    "# Check the structure of the model\n",
    "mm.summary()"
   ],
   "metadata": {
    "collapsed": false,
    "pycharm": {
     "name": "#%%\n"
    }
   }
  },
  {
   "cell_type": "code",
   "execution_count": 130,
   "outputs": [],
   "source": [
    "# Checkpoints are cool, let's use one.\n",
    "os.makedirs(\"checkpoints/\", exist_ok=True)\n",
    "checkpoint_path = \"checkpoints/best_mm_model.hdf5\"\n",
    "\n",
    "# Create a callback that saves the best model as it progresses\n",
    "mm_checkpoint = ModelCheckpoint(checkpoint_path, verbose=1, monitor='val_accuracy', save_best_only=True)\n",
    "mm.compile(loss=\"binary_crossentropy\", optimizer=\"adam\", metrics=[\"accuracy\"])"
   ],
   "metadata": {
    "collapsed": false,
    "pycharm": {
     "name": "#%%\n"
    }
   }
  },
  {
   "cell_type": "code",
   "execution_count": 131,
   "outputs": [
    {
     "name": "stdout",
     "output_type": "stream",
     "text": [
      "Epoch 1/1000\n",
      "801/803 [============================>.] - ETA: 0s - loss: 0.6096 - accuracy: 0.6913\n",
      "Epoch 1: val_accuracy improved from -inf to 0.71249, saving model to checkpoints/best_mm_model.hdf5\n",
      "803/803 [==============================] - 2s 2ms/step - loss: 0.6097 - accuracy: 0.6912 - val_loss: 0.5795 - val_accuracy: 0.7125\n",
      "Epoch 2/1000\n",
      "789/803 [============================>.] - ETA: 0s - loss: 0.5640 - accuracy: 0.7253\n",
      "Epoch 2: val_accuracy improved from 0.71249 to 0.71443, saving model to checkpoints/best_mm_model.hdf5\n",
      "803/803 [==============================] - 1s 2ms/step - loss: 0.5641 - accuracy: 0.7252 - val_loss: 0.5734 - val_accuracy: 0.7144\n",
      "Epoch 3/1000\n",
      "790/803 [============================>.] - ETA: 0s - loss: 0.5600 - accuracy: 0.7257\n",
      "Epoch 3: val_accuracy did not improve from 0.71443\n",
      "803/803 [==============================] - 1s 2ms/step - loss: 0.5605 - accuracy: 0.7251 - val_loss: 0.5727 - val_accuracy: 0.7133\n",
      "Epoch 4/1000\n",
      "784/803 [============================>.] - ETA: 0s - loss: 0.5579 - accuracy: 0.7308\n",
      "Epoch 4: val_accuracy improved from 0.71443 to 0.72130, saving model to checkpoints/best_mm_model.hdf5\n",
      "803/803 [==============================] - 1s 2ms/step - loss: 0.5567 - accuracy: 0.7318 - val_loss: 0.5705 - val_accuracy: 0.7213\n",
      "Epoch 5/1000\n",
      "792/803 [============================>.] - ETA: 0s - loss: 0.5576 - accuracy: 0.7310\n",
      "Epoch 5: val_accuracy did not improve from 0.72130\n",
      "803/803 [==============================] - 1s 2ms/step - loss: 0.5576 - accuracy: 0.7311 - val_loss: 0.5684 - val_accuracy: 0.7197\n",
      "Epoch 6/1000\n",
      "793/803 [============================>.] - ETA: 0s - loss: 0.5516 - accuracy: 0.7342\n",
      "Epoch 6: val_accuracy improved from 0.72130 to 0.72143, saving model to checkpoints/best_mm_model.hdf5\n",
      "803/803 [==============================] - 1s 2ms/step - loss: 0.5516 - accuracy: 0.7340 - val_loss: 0.5695 - val_accuracy: 0.7214\n",
      "Epoch 7/1000\n",
      "772/803 [===========================>..] - ETA: 0s - loss: 0.5540 - accuracy: 0.7327\n",
      "Epoch 7: val_accuracy did not improve from 0.72143\n",
      "803/803 [==============================] - 1s 2ms/step - loss: 0.5541 - accuracy: 0.7325 - val_loss: 0.5675 - val_accuracy: 0.7207\n",
      "Epoch 8/1000\n",
      "776/803 [===========================>..] - ETA: 0s - loss: 0.5504 - accuracy: 0.7371\n",
      "Epoch 8: val_accuracy improved from 0.72143 to 0.72273, saving model to checkpoints/best_mm_model.hdf5\n",
      "803/803 [==============================] - 1s 2ms/step - loss: 0.5502 - accuracy: 0.7375 - val_loss: 0.5692 - val_accuracy: 0.7227\n",
      "Epoch 9/1000\n",
      "798/803 [============================>.] - ETA: 0s - loss: 0.5540 - accuracy: 0.7303\n",
      "Epoch 9: val_accuracy did not improve from 0.72273\n",
      "803/803 [==============================] - 1s 2ms/step - loss: 0.5537 - accuracy: 0.7303 - val_loss: 0.5677 - val_accuracy: 0.7208\n",
      "Epoch 10/1000\n",
      "801/803 [============================>.] - ETA: 0s - loss: 0.5517 - accuracy: 0.7362\n",
      "Epoch 10: val_accuracy did not improve from 0.72273\n",
      "803/803 [==============================] - 1s 2ms/step - loss: 0.5514 - accuracy: 0.7365 - val_loss: 0.5683 - val_accuracy: 0.7216\n",
      "Epoch 11/1000\n",
      "767/803 [===========================>..] - ETA: 0s - loss: 0.5497 - accuracy: 0.7353\n",
      "Epoch 11: val_accuracy improved from 0.72273 to 0.72389, saving model to checkpoints/best_mm_model.hdf5\n",
      "803/803 [==============================] - 2s 2ms/step - loss: 0.5497 - accuracy: 0.7355 - val_loss: 0.5668 - val_accuracy: 0.7239\n",
      "Epoch 12/1000\n",
      "773/803 [===========================>..] - ETA: 0s - loss: 0.5482 - accuracy: 0.7380\n",
      "Epoch 12: val_accuracy did not improve from 0.72389\n",
      "803/803 [==============================] - 1s 2ms/step - loss: 0.5478 - accuracy: 0.7376 - val_loss: 0.5692 - val_accuracy: 0.7216\n",
      "Epoch 13/1000\n",
      "771/803 [===========================>..] - ETA: 0s - loss: 0.5540 - accuracy: 0.7307\n",
      "Epoch 13: val_accuracy did not improve from 0.72389\n",
      "803/803 [==============================] - 1s 1ms/step - loss: 0.5549 - accuracy: 0.7301 - val_loss: 0.5662 - val_accuracy: 0.7213\n",
      "Epoch 14/1000\n",
      "772/803 [===========================>..] - ETA: 0s - loss: 0.5446 - accuracy: 0.7393\n",
      "Epoch 14: val_accuracy did not improve from 0.72389\n",
      "803/803 [==============================] - 1s 2ms/step - loss: 0.5450 - accuracy: 0.7391 - val_loss: 0.5696 - val_accuracy: 0.7195\n",
      "Epoch 15/1000\n",
      "779/803 [============================>.] - ETA: 0s - loss: 0.5561 - accuracy: 0.7304\n",
      "Epoch 15: val_accuracy did not improve from 0.72389\n",
      "803/803 [==============================] - 1s 2ms/step - loss: 0.5555 - accuracy: 0.7308 - val_loss: 0.5674 - val_accuracy: 0.7217\n",
      "Epoch 16/1000\n",
      "803/803 [==============================] - ETA: 0s - loss: 0.5448 - accuracy: 0.7406\n",
      "Epoch 16: val_accuracy did not improve from 0.72389\n",
      "803/803 [==============================] - 1s 2ms/step - loss: 0.5448 - accuracy: 0.7406 - val_loss: 0.5684 - val_accuracy: 0.7190\n",
      "Epoch 17/1000\n",
      "778/803 [============================>.] - ETA: 0s - loss: 0.5503 - accuracy: 0.7351\n",
      "Epoch 17: val_accuracy did not improve from 0.72389\n",
      "803/803 [==============================] - 1s 2ms/step - loss: 0.5504 - accuracy: 0.7349 - val_loss: 0.5690 - val_accuracy: 0.7212\n",
      "Epoch 18/1000\n",
      "787/803 [============================>.] - ETA: 0s - loss: 0.5516 - accuracy: 0.7316\n",
      "Epoch 18: val_accuracy did not improve from 0.72389\n",
      "803/803 [==============================] - 1s 2ms/step - loss: 0.5515 - accuracy: 0.7316 - val_loss: 0.5696 - val_accuracy: 0.7222\n",
      "Epoch 19/1000\n",
      "795/803 [============================>.] - ETA: 0s - loss: 0.5451 - accuracy: 0.7423\n",
      "Epoch 19: val_accuracy did not improve from 0.72389\n",
      "803/803 [==============================] - 1s 2ms/step - loss: 0.5452 - accuracy: 0.7421 - val_loss: 0.5684 - val_accuracy: 0.7196\n",
      "Epoch 20/1000\n",
      "785/803 [============================>.] - ETA: 0s - loss: 0.5496 - accuracy: 0.7351\n",
      "Epoch 20: val_accuracy did not improve from 0.72389\n",
      "803/803 [==============================] - 1s 2ms/step - loss: 0.5488 - accuracy: 0.7353 - val_loss: 0.5695 - val_accuracy: 0.7196\n",
      "Epoch 21/1000\n",
      "797/803 [============================>.] - ETA: 0s - loss: 0.5508 - accuracy: 0.7326\n",
      "Epoch 21: val_accuracy improved from 0.72389 to 0.72428, saving model to checkpoints/best_mm_model.hdf5\n",
      "803/803 [==============================] - 1s 2ms/step - loss: 0.5507 - accuracy: 0.7327 - val_loss: 0.5696 - val_accuracy: 0.7243\n",
      "Epoch 22/1000\n",
      "796/803 [============================>.] - ETA: 0s - loss: 0.5458 - accuracy: 0.7379\n",
      "Epoch 22: val_accuracy did not improve from 0.72428\n",
      "803/803 [==============================] - 1s 2ms/step - loss: 0.5456 - accuracy: 0.7382 - val_loss: 0.5680 - val_accuracy: 0.7223\n",
      "Epoch 23/1000\n",
      "775/803 [===========================>..] - ETA: 0s - loss: 0.5472 - accuracy: 0.7389\n",
      "Epoch 23: val_accuracy did not improve from 0.72428\n",
      "803/803 [==============================] - 1s 2ms/step - loss: 0.5463 - accuracy: 0.7400 - val_loss: 0.5696 - val_accuracy: 0.7219\n",
      "Epoch 24/1000\n",
      "797/803 [============================>.] - ETA: 0s - loss: 0.5505 - accuracy: 0.7343\n",
      "Epoch 24: val_accuracy did not improve from 0.72428\n",
      "803/803 [==============================] - 1s 1ms/step - loss: 0.5502 - accuracy: 0.7346 - val_loss: 0.5691 - val_accuracy: 0.7195\n",
      "Epoch 25/1000\n",
      "779/803 [============================>.] - ETA: 0s - loss: 0.5488 - accuracy: 0.7334\n",
      "Epoch 25: val_accuracy did not improve from 0.72428\n",
      "803/803 [==============================] - 1s 1ms/step - loss: 0.5485 - accuracy: 0.7342 - val_loss: 0.5698 - val_accuracy: 0.7196\n",
      "Epoch 26/1000\n",
      "799/803 [============================>.] - ETA: 0s - loss: 0.5484 - accuracy: 0.7381\n",
      "Epoch 26: val_accuracy did not improve from 0.72428\n",
      "803/803 [==============================] - 1s 2ms/step - loss: 0.5483 - accuracy: 0.7381 - val_loss: 0.5687 - val_accuracy: 0.7182\n",
      "Epoch 27/1000\n",
      "773/803 [===========================>..] - ETA: 0s - loss: 0.5474 - accuracy: 0.7349\n",
      "Epoch 27: val_accuracy did not improve from 0.72428\n",
      "803/803 [==============================] - 1s 2ms/step - loss: 0.5487 - accuracy: 0.7341 - val_loss: 0.5681 - val_accuracy: 0.7212\n",
      "Epoch 28/1000\n",
      "797/803 [============================>.] - ETA: 0s - loss: 0.5443 - accuracy: 0.7407\n",
      "Epoch 28: val_accuracy did not improve from 0.72428\n",
      "803/803 [==============================] - 1s 2ms/step - loss: 0.5440 - accuracy: 0.7409 - val_loss: 0.5707 - val_accuracy: 0.7210\n",
      "Epoch 29/1000\n",
      "760/803 [===========================>..] - ETA: 0s - loss: 0.5510 - accuracy: 0.7324\n",
      "Epoch 29: val_accuracy did not improve from 0.72428\n",
      "803/803 [==============================] - 1s 2ms/step - loss: 0.5505 - accuracy: 0.7330 - val_loss: 0.5683 - val_accuracy: 0.7216\n",
      "Epoch 30/1000\n",
      "800/803 [============================>.] - ETA: 0s - loss: 0.5463 - accuracy: 0.7368\n",
      "Epoch 30: val_accuracy did not improve from 0.72428\n",
      "803/803 [==============================] - 1s 2ms/step - loss: 0.5464 - accuracy: 0.7367 - val_loss: 0.5677 - val_accuracy: 0.7221\n",
      "Epoch 31/1000\n",
      "795/803 [============================>.] - ETA: 0s - loss: 0.5459 - accuracy: 0.7385\n",
      "Epoch 31: val_accuracy did not improve from 0.72428\n",
      "803/803 [==============================] - 1s 2ms/step - loss: 0.5459 - accuracy: 0.7381 - val_loss: 0.5677 - val_accuracy: 0.7210\n",
      "Epoch 32/1000\n",
      "772/803 [===========================>..] - ETA: 0s - loss: 0.5437 - accuracy: 0.7413\n",
      "Epoch 32: val_accuracy did not improve from 0.72428\n",
      "803/803 [==============================] - 1s 2ms/step - loss: 0.5427 - accuracy: 0.7422 - val_loss: 0.5709 - val_accuracy: 0.7201\n",
      "Epoch 33/1000\n",
      "795/803 [============================>.] - ETA: 0s - loss: 0.5506 - accuracy: 0.7335\n",
      "Epoch 33: val_accuracy did not improve from 0.72428\n",
      "803/803 [==============================] - 1s 2ms/step - loss: 0.5501 - accuracy: 0.7340 - val_loss: 0.5705 - val_accuracy: 0.7212\n",
      "Epoch 34/1000\n",
      "779/803 [============================>.] - ETA: 0s - loss: 0.5445 - accuracy: 0.7385\n",
      "Epoch 34: val_accuracy did not improve from 0.72428\n",
      "803/803 [==============================] - 1s 2ms/step - loss: 0.5452 - accuracy: 0.7383 - val_loss: 0.5683 - val_accuracy: 0.7213\n",
      "Epoch 35/1000\n",
      "792/803 [============================>.] - ETA: 0s - loss: 0.5489 - accuracy: 0.7369\n",
      "Epoch 35: val_accuracy did not improve from 0.72428\n",
      "803/803 [==============================] - 1s 2ms/step - loss: 0.5495 - accuracy: 0.7364 - val_loss: 0.5686 - val_accuracy: 0.7203\n",
      "Epoch 36/1000\n",
      "773/803 [===========================>..] - ETA: 0s - loss: 0.5457 - accuracy: 0.7388\n",
      "Epoch 36: val_accuracy did not improve from 0.72428\n",
      "803/803 [==============================] - 1s 2ms/step - loss: 0.5453 - accuracy: 0.7393 - val_loss: 0.5704 - val_accuracy: 0.7203\n",
      "Epoch 37/1000\n",
      "769/803 [===========================>..] - ETA: 0s - loss: 0.5430 - accuracy: 0.7404\n",
      "Epoch 37: val_accuracy did not improve from 0.72428\n",
      "803/803 [==============================] - 1s 2ms/step - loss: 0.5437 - accuracy: 0.7392 - val_loss: 0.5696 - val_accuracy: 0.7203\n",
      "Epoch 38/1000\n",
      "773/803 [===========================>..] - ETA: 0s - loss: 0.5480 - accuracy: 0.7355\n",
      "Epoch 38: val_accuracy did not improve from 0.72428\n",
      "803/803 [==============================] - 1s 2ms/step - loss: 0.5481 - accuracy: 0.7356 - val_loss: 0.5692 - val_accuracy: 0.7199\n",
      "Epoch 39/1000\n",
      "790/803 [============================>.] - ETA: 0s - loss: 0.5455 - accuracy: 0.7389\n",
      "Epoch 39: val_accuracy did not improve from 0.72428\n",
      "803/803 [==============================] - 1s 2ms/step - loss: 0.5456 - accuracy: 0.7385 - val_loss: 0.5687 - val_accuracy: 0.7217\n",
      "Epoch 40/1000\n",
      "768/803 [===========================>..] - ETA: 0s - loss: 0.5452 - accuracy: 0.7395\n",
      "Epoch 40: val_accuracy did not improve from 0.72428\n",
      "803/803 [==============================] - 1s 2ms/step - loss: 0.5454 - accuracy: 0.7392 - val_loss: 0.5691 - val_accuracy: 0.7212\n",
      "Epoch 41/1000\n",
      "795/803 [============================>.] - ETA: 0s - loss: 0.5458 - accuracy: 0.7378\n",
      "Epoch 41: val_accuracy did not improve from 0.72428\n",
      "803/803 [==============================] - 1s 2ms/step - loss: 0.5457 - accuracy: 0.7380 - val_loss: 0.5700 - val_accuracy: 0.7195\n",
      "Epoch 42/1000\n",
      "797/803 [============================>.] - ETA: 0s - loss: 0.5463 - accuracy: 0.7381\n",
      "Epoch 42: val_accuracy did not improve from 0.72428\n",
      "803/803 [==============================] - 1s 2ms/step - loss: 0.5464 - accuracy: 0.7380 - val_loss: 0.5688 - val_accuracy: 0.7199\n",
      "Epoch 43/1000\n",
      "774/803 [===========================>..] - ETA: 0s - loss: 0.5472 - accuracy: 0.7375\n",
      "Epoch 43: val_accuracy did not improve from 0.72428\n",
      "803/803 [==============================] - 1s 2ms/step - loss: 0.5462 - accuracy: 0.7385 - val_loss: 0.5690 - val_accuracy: 0.7208\n",
      "Epoch 44/1000\n",
      "781/803 [============================>.] - ETA: 0s - loss: 0.5450 - accuracy: 0.7366\n",
      "Epoch 44: val_accuracy did not improve from 0.72428\n",
      "803/803 [==============================] - 2s 2ms/step - loss: 0.5437 - accuracy: 0.7378 - val_loss: 0.5702 - val_accuracy: 0.7200\n",
      "Epoch 45/1000\n",
      "795/803 [============================>.] - ETA: 0s - loss: 0.5448 - accuracy: 0.7402\n",
      "Epoch 45: val_accuracy did not improve from 0.72428\n",
      "803/803 [==============================] - 1s 2ms/step - loss: 0.5448 - accuracy: 0.7402 - val_loss: 0.5701 - val_accuracy: 0.7196\n",
      "Epoch 46/1000\n",
      "792/803 [============================>.] - ETA: 0s - loss: 0.5472 - accuracy: 0.7378\n",
      "Epoch 46: val_accuracy did not improve from 0.72428\n",
      "803/803 [==============================] - 1s 2ms/step - loss: 0.5469 - accuracy: 0.7384 - val_loss: 0.5702 - val_accuracy: 0.7201\n",
      "Epoch 47/1000\n",
      "779/803 [============================>.] - ETA: 0s - loss: 0.5461 - accuracy: 0.7390\n",
      "Epoch 47: val_accuracy did not improve from 0.72428\n",
      "803/803 [==============================] - 1s 2ms/step - loss: 0.5464 - accuracy: 0.7386 - val_loss: 0.5694 - val_accuracy: 0.7209\n",
      "Epoch 48/1000\n",
      "777/803 [============================>.] - ETA: 0s - loss: 0.5422 - accuracy: 0.7394\n",
      "Epoch 48: val_accuracy did not improve from 0.72428\n",
      "803/803 [==============================] - 1s 2ms/step - loss: 0.5419 - accuracy: 0.7396 - val_loss: 0.5691 - val_accuracy: 0.7172\n",
      "Epoch 49/1000\n",
      "783/803 [============================>.] - ETA: 0s - loss: 0.5454 - accuracy: 0.7399\n",
      "Epoch 49: val_accuracy did not improve from 0.72428\n",
      "803/803 [==============================] - 1s 2ms/step - loss: 0.5455 - accuracy: 0.7396 - val_loss: 0.5711 - val_accuracy: 0.7205\n",
      "Epoch 50/1000\n",
      "781/803 [============================>.] - ETA: 0s - loss: 0.5471 - accuracy: 0.7364\n",
      "Epoch 50: val_accuracy did not improve from 0.72428\n",
      "803/803 [==============================] - 1s 2ms/step - loss: 0.5458 - accuracy: 0.7377 - val_loss: 0.5703 - val_accuracy: 0.7234\n",
      "Epoch 51/1000\n",
      "787/803 [============================>.] - ETA: 0s - loss: 0.5489 - accuracy: 0.7377\n",
      "Epoch 51: val_accuracy did not improve from 0.72428\n",
      "803/803 [==============================] - 2s 2ms/step - loss: 0.5488 - accuracy: 0.7378 - val_loss: 0.5698 - val_accuracy: 0.7207\n",
      "Epoch 52/1000\n",
      "775/803 [===========================>..] - ETA: 0s - loss: 0.5444 - accuracy: 0.7393\n",
      "Epoch 52: val_accuracy did not improve from 0.72428\n",
      "803/803 [==============================] - 1s 2ms/step - loss: 0.5438 - accuracy: 0.7401 - val_loss: 0.5698 - val_accuracy: 0.7186\n",
      "Epoch 53/1000\n",
      "798/803 [============================>.] - ETA: 0s - loss: 0.5448 - accuracy: 0.7377\n",
      "Epoch 53: val_accuracy did not improve from 0.72428\n",
      "803/803 [==============================] - 1s 2ms/step - loss: 0.5451 - accuracy: 0.7376 - val_loss: 0.5680 - val_accuracy: 0.7205\n",
      "Epoch 54/1000\n",
      "776/803 [===========================>..] - ETA: 0s - loss: 0.5455 - accuracy: 0.7388\n",
      "Epoch 54: val_accuracy did not improve from 0.72428\n",
      "803/803 [==============================] - 1s 2ms/step - loss: 0.5450 - accuracy: 0.7391 - val_loss: 0.5685 - val_accuracy: 0.7205\n",
      "Epoch 55/1000\n",
      "777/803 [============================>.] - ETA: 0s - loss: 0.5438 - accuracy: 0.7395\n",
      "Epoch 55: val_accuracy did not improve from 0.72428\n",
      "803/803 [==============================] - 2s 2ms/step - loss: 0.5436 - accuracy: 0.7398 - val_loss: 0.5699 - val_accuracy: 0.7199\n",
      "Epoch 56/1000\n",
      "795/803 [============================>.] - ETA: 0s - loss: 0.5437 - accuracy: 0.7411\n",
      "Epoch 56: val_accuracy did not improve from 0.72428\n",
      "803/803 [==============================] - 2s 2ms/step - loss: 0.5440 - accuracy: 0.7408 - val_loss: 0.5721 - val_accuracy: 0.7196\n",
      "Epoch 57/1000\n",
      "786/803 [============================>.] - ETA: 0s - loss: 0.5448 - accuracy: 0.7363\n",
      "Epoch 57: val_accuracy did not improve from 0.72428\n",
      "803/803 [==============================] - 1s 2ms/step - loss: 0.5449 - accuracy: 0.7365 - val_loss: 0.5693 - val_accuracy: 0.7201\n",
      "Epoch 58/1000\n",
      "800/803 [============================>.] - ETA: 0s - loss: 0.5457 - accuracy: 0.7412\n",
      "Epoch 58: val_accuracy did not improve from 0.72428\n",
      "803/803 [==============================] - 2s 2ms/step - loss: 0.5454 - accuracy: 0.7415 - val_loss: 0.5699 - val_accuracy: 0.7236\n",
      "Epoch 59/1000\n",
      "798/803 [============================>.] - ETA: 0s - loss: 0.5480 - accuracy: 0.7340\n",
      "Epoch 59: val_accuracy did not improve from 0.72428\n",
      "803/803 [==============================] - 1s 2ms/step - loss: 0.5480 - accuracy: 0.7341 - val_loss: 0.5675 - val_accuracy: 0.7229\n",
      "Epoch 60/1000\n",
      "785/803 [============================>.] - ETA: 0s - loss: 0.5454 - accuracy: 0.7385\n",
      "Epoch 60: val_accuracy did not improve from 0.72428\n",
      "803/803 [==============================] - 1s 2ms/step - loss: 0.5447 - accuracy: 0.7392 - val_loss: 0.5695 - val_accuracy: 0.7213\n",
      "Epoch 61/1000\n",
      "771/803 [===========================>..] - ETA: 0s - loss: 0.5428 - accuracy: 0.7423\n",
      "Epoch 61: val_accuracy did not improve from 0.72428\n",
      "803/803 [==============================] - 1s 2ms/step - loss: 0.5423 - accuracy: 0.7422 - val_loss: 0.5698 - val_accuracy: 0.7219\n",
      "Epoch 62/1000\n",
      "798/803 [============================>.] - ETA: 0s - loss: 0.5421 - accuracy: 0.7411\n",
      "Epoch 62: val_accuracy did not improve from 0.72428\n",
      "803/803 [==============================] - 1s 2ms/step - loss: 0.5424 - accuracy: 0.7410 - val_loss: 0.5686 - val_accuracy: 0.7203\n",
      "Epoch 63/1000\n",
      "780/803 [============================>.] - ETA: 0s - loss: 0.5472 - accuracy: 0.7373\n",
      "Epoch 63: val_accuracy did not improve from 0.72428\n",
      "803/803 [==============================] - 1s 2ms/step - loss: 0.5463 - accuracy: 0.7383 - val_loss: 0.5692 - val_accuracy: 0.7183\n",
      "Epoch 63: early stopping\n"
     ]
    }
   ],
   "source": [
    "mm_history = mm.fit(X_train_scaled, y_train, epochs=1000, callbacks=[mm_checkpoint, es], validation_split=0.3,\n",
    "                    steps_per_epoch=len(X_train) // 32)"
   ],
   "metadata": {
    "collapsed": false,
    "pycharm": {
     "name": "#%%\n"
    }
   }
  },
  {
   "cell_type": "code",
   "execution_count": 133,
   "outputs": [
    {
     "name": "stdout",
     "output_type": "stream",
     "text": [
      "268/268 - 0s - loss: 0.5631 - accuracy: 0.7230 - 235ms/epoch - 878us/step\n",
      "Loss: 0.5631239414215088, Accuracy: 0.7230320572853088\n",
      "268/268 - 0s - loss: 0.5631 - accuracy: 0.7230 - 242ms/epoch - 904us/step\n",
      "Loss: 0.5631239414215088, Accuracy: 0.7230320572853088\n"
     ]
    }
   ],
   "source": [
    "# Evaluate the model using the test data\n",
    "model_loss, model_accuracy = mm.evaluate(X_test_scaled, y_test, verbose=2)\n",
    "print(f\"Loss: {model_loss}, Accuracy: {model_accuracy}\")"
   ],
   "metadata": {
    "collapsed": false,
    "pycharm": {
     "name": "#%%\n"
    }
   }
  },
  {
   "cell_type": "code",
   "execution_count": 136,
   "outputs": [],
   "source": [
    "# Loading weights from best model\n",
    "mm.load_weights('checkpoints/best_mm_model.hdf5')\n",
    "\n",
    "# Saving all model\n",
    "mm.save('checkpoints/mm_model.hdf5')"
   ],
   "metadata": {
    "collapsed": false,
    "pycharm": {
     "name": "#%%\n"
    }
   }
  },
  {
   "cell_type": "markdown",
   "source": [
    "Still didn't make it."
   ],
   "metadata": {
    "collapsed": false,
    "pycharm": {
     "name": "#%% md\n"
    }
   }
  }
 ],
 "metadata": {
  "kernelspec": {
   "name": "mlenv",
   "language": "python",
   "display_name": "mlenv"
  },
  "language_info": {
   "codemirror_mode": {
    "name": "ipython",
    "version": 3
   },
   "file_extension": ".py",
   "mimetype": "text/x-python",
   "name": "python",
   "nbconvert_exporter": "python",
   "pygments_lexer": "ipython3",
   "version": "3.7.7"
  }
 },
 "nbformat": 4,
 "nbformat_minor": 2
}